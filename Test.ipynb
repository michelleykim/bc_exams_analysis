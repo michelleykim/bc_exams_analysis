{
 "cells": [
  {
   "cell_type": "markdown",
   "metadata": {},
   "source": [
    "Null Hypothesis- There is no difference in the provicial examination grades in Public or independent highschools in BC\n",
    "Alternate Hypthesis- In BC, Independent highschools has higher provicial examination grades than Public highschools."
   ]
  },
  {
   "cell_type": "code",
   "execution_count": 1,
   "metadata": {},
   "outputs": [
    {
     "name": "stderr",
     "output_type": "stream",
     "text": [
      "── \u001b[1mAttaching packages\u001b[22m ─────────────────────────────────────── tidyverse 1.3.0 ──\n",
      "\n",
      "\u001b[32m✔\u001b[39m \u001b[34mggplot2\u001b[39m 3.3.5     \u001b[32m✔\u001b[39m \u001b[34mpurrr  \u001b[39m 0.3.4\n",
      "\u001b[32m✔\u001b[39m \u001b[34mtibble \u001b[39m 3.0.3     \u001b[32m✔\u001b[39m \u001b[34mdplyr  \u001b[39m 1.0.2\n",
      "\u001b[32m✔\u001b[39m \u001b[34mtidyr  \u001b[39m 1.1.1     \u001b[32m✔\u001b[39m \u001b[34mstringr\u001b[39m 1.4.0\n",
      "\u001b[32m✔\u001b[39m \u001b[34mreadr  \u001b[39m 1.3.1     \u001b[32m✔\u001b[39m \u001b[34mforcats\u001b[39m 0.5.0\n",
      "\n",
      "Warning message:\n",
      "“package ‘tibble’ was built under R version 4.0.2”\n",
      "Warning message:\n",
      "“package ‘tidyr’ was built under R version 4.0.2”\n",
      "Warning message:\n",
      "“package ‘dplyr’ was built under R version 4.0.2”\n",
      "── \u001b[1mConflicts\u001b[22m ────────────────────────────────────────── tidyverse_conflicts() ──\n",
      "\u001b[31m✖\u001b[39m \u001b[34mdplyr\u001b[39m::\u001b[32mfilter()\u001b[39m masks \u001b[34mstats\u001b[39m::filter()\n",
      "\u001b[31m✖\u001b[39m \u001b[34mdplyr\u001b[39m::\u001b[32mlag()\u001b[39m    masks \u001b[34mstats\u001b[39m::lag()\n",
      "\n",
      "Warning message:\n",
      "“package ‘infer’ was built under R version 4.0.2”\n"
     ]
    }
   ],
   "source": [
    "library(tidyverse)\n",
    "library(infer)"
   ]
  },
  {
   "cell_type": "code",
   "execution_count": 2,
   "metadata": {},
   "outputs": [
    {
     "name": "stderr",
     "output_type": "stream",
     "text": [
      "Parsed with column specification:\n",
      "cols(\n",
      "  .default = col_character(),\n",
      "  SCHOOL_NUMBER = \u001b[33mcol_logical()\u001b[39m,\n",
      "  SCHOOL_NAME = \u001b[33mcol_logical()\u001b[39m,\n",
      "  GRADE = \u001b[32mcol_double()\u001b[39m\n",
      ")\n",
      "\n",
      "See spec(...) for full column specifications.\n",
      "\n",
      "Warning message:\n",
      "“81714 parsing failures.\n",
      " row           col           expected                actual                                                                                                                                     file\n",
      "2314 SCHOOL_NUMBER 1/0/T/F/TRUE/FALSE 00502001              'https://raw.githubusercontent.com/michelleykim/bc_exams_analysis/main/data/provincial-required-examinations-2016_2017_to_2019_2020.csv'\n",
      "2314 SCHOOL_NAME   1/0/T/F/TRUE/FALSE Mount Baker Secondary 'https://raw.githubusercontent.com/michelleykim/bc_exams_analysis/main/data/provincial-required-examinations-2016_2017_to_2019_2020.csv'\n",
      "2315 SCHOOL_NUMBER 1/0/T/F/TRUE/FALSE 00502001              'https://raw.githubusercontent.com/michelleykim/bc_exams_analysis/main/data/provincial-required-examinations-2016_2017_to_2019_2020.csv'\n",
      "2315 SCHOOL_NAME   1/0/T/F/TRUE/FALSE Mount Baker Secondary 'https://raw.githubusercontent.com/michelleykim/bc_exams_analysis/main/data/provincial-required-examinations-2016_2017_to_2019_2020.csv'\n",
      "2316 SCHOOL_NUMBER 1/0/T/F/TRUE/FALSE 00502001              'https://raw.githubusercontent.com/michelleykim/bc_exams_analysis/main/data/provincial-required-examinations-2016_2017_to_2019_2020.csv'\n",
      ".... ............. .................. ..................... ........................................................................................................................................\n",
      "See problems(...) for more details.\n",
      "”\n",
      "`summarise()` ungrouping output (override with `.groups` argument)\n",
      "\n"
     ]
    },
    {
     "data": {
      "text/html": [
       "<table>\n",
       "<caption>A tibble: 3 × 2</caption>\n",
       "<thead>\n",
       "\t<tr><th scope=col>PUBLIC_OR_INDEPENDENT</th><th scope=col>n</th></tr>\n",
       "\t<tr><th scope=col>&lt;chr&gt;</th><th scope=col>&lt;int&gt;</th></tr>\n",
       "</thead>\n",
       "<tbody>\n",
       "\t<tr><td>BC Independent School</td><td> 7377</td></tr>\n",
       "\t<tr><td>BC Public School     </td><td>41316</td></tr>\n",
       "\t<tr><td>Province-Total       </td><td>  225</td></tr>\n",
       "</tbody>\n",
       "</table>\n"
      ],
      "text/latex": [
       "A tibble: 3 × 2\n",
       "\\begin{tabular}{ll}\n",
       " PUBLIC\\_OR\\_INDEPENDENT & n\\\\\n",
       " <chr> & <int>\\\\\n",
       "\\hline\n",
       "\t BC Independent School &  7377\\\\\n",
       "\t BC Public School      & 41316\\\\\n",
       "\t Province-Total        &   225\\\\\n",
       "\\end{tabular}\n"
      ],
      "text/markdown": [
       "\n",
       "A tibble: 3 × 2\n",
       "\n",
       "| PUBLIC_OR_INDEPENDENT &lt;chr&gt; | n &lt;int&gt; |\n",
       "|---|---|\n",
       "| BC Independent School |  7377 |\n",
       "| BC Public School      | 41316 |\n",
       "| Province-Total        |   225 |\n",
       "\n"
      ],
      "text/plain": [
       "  PUBLIC_OR_INDEPENDENT n    \n",
       "1 BC Independent School  7377\n",
       "2 BC Public School      41316\n",
       "3 Province-Total          225"
      ]
     },
     "metadata": {},
     "output_type": "display_data"
    }
   ],
   "source": [
    "exam_data <- read_delim(\"https://raw.githubusercontent.com/michelleykim/bc_exams_analysis/main/data/provincial-required-examinations-2016_2017_to_2019_2020.csv\", delim = \",\")\n",
    "exam_test<-exam_data %>% \n",
    "select(PUBLIC_OR_INDEPENDENT) %>% \n",
    "group_by(PUBLIC_OR_INDEPENDENT) %>% \n",
    "            summarize(n=n())\n",
    "\n",
    "exam_test"
   ]
  },
  {
   "cell_type": "code",
   "execution_count": 4,
   "metadata": {},
   "outputs": [
    {
     "data": {
      "text/html": [
       "<table>\n",
       "<caption>A tibble: 6 × 2</caption>\n",
       "<thead>\n",
       "\t<tr><th scope=col>PUBLIC_OR_INDEPENDENT</th><th scope=col>AVERAGE_PERCENT</th></tr>\n",
       "\t<tr><th scope=col>&lt;chr&gt;</th><th scope=col>&lt;dbl&gt;</th></tr>\n",
       "</thead>\n",
       "<tbody>\n",
       "\t<tr><td>BC Public School</td><td>60.8</td></tr>\n",
       "\t<tr><td>BC Public School</td><td>68.4</td></tr>\n",
       "\t<tr><td>BC Public School</td><td>73.4</td></tr>\n",
       "\t<tr><td>BC Public School</td><td>64.2</td></tr>\n",
       "\t<tr><td>BC Public School</td><td>70.5</td></tr>\n",
       "\t<tr><td>BC Public School</td><td>54.8</td></tr>\n",
       "</tbody>\n",
       "</table>\n"
      ],
      "text/latex": [
       "A tibble: 6 × 2\n",
       "\\begin{tabular}{ll}\n",
       " PUBLIC\\_OR\\_INDEPENDENT & AVERAGE\\_PERCENT\\\\\n",
       " <chr> & <dbl>\\\\\n",
       "\\hline\n",
       "\t BC Public School & 60.8\\\\\n",
       "\t BC Public School & 68.4\\\\\n",
       "\t BC Public School & 73.4\\\\\n",
       "\t BC Public School & 64.2\\\\\n",
       "\t BC Public School & 70.5\\\\\n",
       "\t BC Public School & 54.8\\\\\n",
       "\\end{tabular}\n"
      ],
      "text/markdown": [
       "\n",
       "A tibble: 6 × 2\n",
       "\n",
       "| PUBLIC_OR_INDEPENDENT &lt;chr&gt; | AVERAGE_PERCENT &lt;dbl&gt; |\n",
       "|---|---|\n",
       "| BC Public School | 60.8 |\n",
       "| BC Public School | 68.4 |\n",
       "| BC Public School | 73.4 |\n",
       "| BC Public School | 64.2 |\n",
       "| BC Public School | 70.5 |\n",
       "| BC Public School | 54.8 |\n",
       "\n"
      ],
      "text/plain": [
       "  PUBLIC_OR_INDEPENDENT AVERAGE_PERCENT\n",
       "1 BC Public School      60.8           \n",
       "2 BC Public School      68.4           \n",
       "3 BC Public School      73.4           \n",
       "4 BC Public School      64.2           \n",
       "5 BC Public School      70.5           \n",
       "6 BC Public School      54.8           "
      ]
     },
     "metadata": {},
     "output_type": "display_data"
    }
   ],
   "source": [
    "exam_school_type <- exam_data  %>% \n",
    "                    select(PUBLIC_OR_INDEPENDENT, AVERAGE_PERCENT) %>% \n",
    "                    filter(AVERAGE_PERCENT != \"Msk\") %>% \n",
    "                    filter(PUBLIC_OR_INDEPENDENT == \"BC Public School\" |PUBLIC_OR_INDEPENDENT == \"BC Independent School\") %>% \n",
    "                    mutate(AVERAGE_PERCENT = as.numeric(AVERAGE_PERCENT))\n",
    "head(exam_school_type)"
   ]
  },
  {
   "cell_type": "code",
   "execution_count": 5,
   "metadata": {},
   "outputs": [
    {
     "data": {
      "text/html": [
       "<table>\n",
       "<caption>A tibble: 6 × 2</caption>\n",
       "<thead>\n",
       "\t<tr><th scope=col>PUBLIC_OR_INDEPENDENT</th><th scope=col>AVERAGE_PERCENT</th></tr>\n",
       "\t<tr><th scope=col>&lt;chr&gt;</th><th scope=col>&lt;dbl&gt;</th></tr>\n",
       "</thead>\n",
       "<tbody>\n",
       "\t<tr><td>BC Public School</td><td>74.9</td></tr>\n",
       "\t<tr><td>BC Public School</td><td>67.9</td></tr>\n",
       "\t<tr><td>BC Public School</td><td>77.2</td></tr>\n",
       "\t<tr><td>BC Public School</td><td>74.6</td></tr>\n",
       "\t<tr><td>BC Public School</td><td>74.3</td></tr>\n",
       "\t<tr><td>BC Public School</td><td>64.5</td></tr>\n",
       "</tbody>\n",
       "</table>\n"
      ],
      "text/latex": [
       "A tibble: 6 × 2\n",
       "\\begin{tabular}{ll}\n",
       " PUBLIC\\_OR\\_INDEPENDENT & AVERAGE\\_PERCENT\\\\\n",
       " <chr> & <dbl>\\\\\n",
       "\\hline\n",
       "\t BC Public School & 74.9\\\\\n",
       "\t BC Public School & 67.9\\\\\n",
       "\t BC Public School & 77.2\\\\\n",
       "\t BC Public School & 74.6\\\\\n",
       "\t BC Public School & 74.3\\\\\n",
       "\t BC Public School & 64.5\\\\\n",
       "\\end{tabular}\n"
      ],
      "text/markdown": [
       "\n",
       "A tibble: 6 × 2\n",
       "\n",
       "| PUBLIC_OR_INDEPENDENT &lt;chr&gt; | AVERAGE_PERCENT &lt;dbl&gt; |\n",
       "|---|---|\n",
       "| BC Public School | 74.9 |\n",
       "| BC Public School | 67.9 |\n",
       "| BC Public School | 77.2 |\n",
       "| BC Public School | 74.6 |\n",
       "| BC Public School | 74.3 |\n",
       "| BC Public School | 64.5 |\n",
       "\n"
      ],
      "text/plain": [
       "  PUBLIC_OR_INDEPENDENT AVERAGE_PERCENT\n",
       "1 BC Public School      74.9           \n",
       "2 BC Public School      67.9           \n",
       "3 BC Public School      77.2           \n",
       "4 BC Public School      74.6           \n",
       "5 BC Public School      74.3           \n",
       "6 BC Public School      64.5           "
      ]
     },
     "metadata": {},
     "output_type": "display_data"
    }
   ],
   "source": [
    "set.seed(122)\n",
    "exam_school_type_sample_public <- exam_school_type %>% \n",
    "        filter(PUBLIC_OR_INDEPENDENT == \"BC Public School\") %>% \n",
    "        rep_sample_n(size = 20) \n",
    "\n",
    "exam_school_type_sample_Independent <- exam_school_type %>% \n",
    "        filter(PUBLIC_OR_INDEPENDENT == \"BC Independent School\") %>% \n",
    "        rep_sample_n(size = 20) \n",
    "\n",
    "exam_school_type_sample <- rbind(exam_school_type_sample_public, exam_school_type_sample_Independent) %>% \n",
    "                        ungroup() %>% \n",
    "                        select(-replicate)\n",
    "head(exam_school_type_sample)"
   ]
  },
  {
   "cell_type": "code",
   "execution_count": 6,
   "metadata": {},
   "outputs": [
    {
     "data": {
      "text/html": [
       "<table>\n",
       "<caption>A tibble: 1 × 1</caption>\n",
       "<thead>\n",
       "\t<tr><th scope=col>stat</th></tr>\n",
       "\t<tr><th scope=col>&lt;dbl&gt;</th></tr>\n",
       "</thead>\n",
       "<tbody>\n",
       "\t<tr><td>6.09</td></tr>\n",
       "</tbody>\n",
       "</table>\n"
      ],
      "text/latex": [
       "A tibble: 1 × 1\n",
       "\\begin{tabular}{l}\n",
       " stat\\\\\n",
       " <dbl>\\\\\n",
       "\\hline\n",
       "\t 6.09\\\\\n",
       "\\end{tabular}\n"
      ],
      "text/markdown": [
       "\n",
       "A tibble: 1 × 1\n",
       "\n",
       "| stat &lt;dbl&gt; |\n",
       "|---|\n",
       "| 6.09 |\n",
       "\n"
      ],
      "text/plain": [
       "  stat\n",
       "1 6.09"
      ]
     },
     "metadata": {},
     "output_type": "display_data"
    }
   ],
   "source": [
    "obs_diff_in_mean <-   exam_school_type_sample  %>% \n",
    "    specify(formula = AVERAGE_PERCENT ~ PUBLIC_OR_INDEPENDENT) %>%\n",
    "    calculate(stat = \"diff in means\", order = c(\"BC Independent School\", \"BC Public School\"))\n",
    "obs_diff_in_mean "
   ]
  },
  {
   "cell_type": "code",
   "execution_count": 7,
   "metadata": {},
   "outputs": [
    {
     "data": {
      "text/html": [
       "<table>\n",
       "<caption>A tibble: 6 × 2</caption>\n",
       "<thead>\n",
       "\t<tr><th scope=col>replicate</th><th scope=col>stat</th></tr>\n",
       "\t<tr><th scope=col>&lt;int&gt;</th><th scope=col>&lt;dbl&gt;</th></tr>\n",
       "</thead>\n",
       "<tbody>\n",
       "\t<tr><td>1</td><td>-0.59</td></tr>\n",
       "\t<tr><td>2</td><td> 0.28</td></tr>\n",
       "\t<tr><td>3</td><td>-0.77</td></tr>\n",
       "\t<tr><td>4</td><td>-2.44</td></tr>\n",
       "\t<tr><td>5</td><td> 0.19</td></tr>\n",
       "\t<tr><td>6</td><td> 0.17</td></tr>\n",
       "</tbody>\n",
       "</table>\n"
      ],
      "text/latex": [
       "A tibble: 6 × 2\n",
       "\\begin{tabular}{ll}\n",
       " replicate & stat\\\\\n",
       " <int> & <dbl>\\\\\n",
       "\\hline\n",
       "\t 1 & -0.59\\\\\n",
       "\t 2 &  0.28\\\\\n",
       "\t 3 & -0.77\\\\\n",
       "\t 4 & -2.44\\\\\n",
       "\t 5 &  0.19\\\\\n",
       "\t 6 &  0.17\\\\\n",
       "\\end{tabular}\n"
      ],
      "text/markdown": [
       "\n",
       "A tibble: 6 × 2\n",
       "\n",
       "| replicate &lt;int&gt; | stat &lt;dbl&gt; |\n",
       "|---|---|\n",
       "| 1 | -0.59 |\n",
       "| 2 |  0.28 |\n",
       "| 3 | -0.77 |\n",
       "| 4 | -2.44 |\n",
       "| 5 |  0.19 |\n",
       "| 6 |  0.17 |\n",
       "\n"
      ],
      "text/plain": [
       "  replicate stat \n",
       "1 1         -0.59\n",
       "2 2          0.28\n",
       "3 3         -0.77\n",
       "4 4         -2.44\n",
       "5 5          0.19\n",
       "6 6          0.17"
      ]
     },
     "metadata": {},
     "output_type": "display_data"
    }
   ],
   "source": [
    "null_distribution <- exam_school_type_sample %>% \n",
    "  specify(formula = AVERAGE_PERCENT ~ PUBLIC_OR_INDEPENDENT) %>% \n",
    "  hypothesize(null = \"independence\") %>% \n",
    "  generate(reps = 1000, type = \"permute\") %>% \n",
    "  calculate(stat = \"diff in means\", order = c(\"BC Independent School\", \"BC Public School\"))\n",
    "head(null_distribution)"
   ]
  },
  {
   "cell_type": "code",
   "execution_count": 8,
   "metadata": {},
   "outputs": [
    {
     "data": {
      "image/png": "[encoded data removed]",
      "text/plain": [
       "plot without title"
      ]
     },
     "metadata": {
      "image/png": {
       "height": 420,
       "width": 420
      }
     },
     "output_type": "display_data"
    }
   ],
   "source": [
    "visualize(null_distribution, bins = 10) + \n",
    "  shade_p_value(obs_stat = obs_diff_in_mean, direction = \"right\")"
   ]
  },
  {
   "cell_type": "code",
   "execution_count": 9,
   "metadata": {},
   "outputs": [
    {
     "data": {
      "text/html": [
       "<table>\n",
       "<caption>A tibble: 1 × 1</caption>\n",
       "<thead>\n",
       "\t<tr><th scope=col>p_value</th></tr>\n",
       "\t<tr><th scope=col>&lt;dbl&gt;</th></tr>\n",
       "</thead>\n",
       "<tbody>\n",
       "\t<tr><td>0.002</td></tr>\n",
       "</tbody>\n",
       "</table>\n"
      ],
      "text/latex": [
       "A tibble: 1 × 1\n",
       "\\begin{tabular}{l}\n",
       " p\\_value\\\\\n",
       " <dbl>\\\\\n",
       "\\hline\n",
       "\t 0.002\\\\\n",
       "\\end{tabular}\n"
      ],
      "text/markdown": [
       "\n",
       "A tibble: 1 × 1\n",
       "\n",
       "| p_value &lt;dbl&gt; |\n",
       "|---|\n",
       "| 0.002 |\n",
       "\n"
      ],
      "text/plain": [
       "  p_value\n",
       "1 0.002  "
      ]
     },
     "metadata": {},
     "output_type": "display_data"
    }
   ],
   "source": [
    "null_distribution %>% \n",
    "  get_p_value(obs_stat = obs_diff_in_mean, direction = \"right\")"
   ]
  },
  {
   "cell_type": "markdown",
   "metadata": {},
   "source": [
    "At a significance level of 0.05, we reject the null hypthothesis."
   ]
  }
 ],
 "metadata": {
  "kernelspec": {
   "display_name": "R",
   "language": "R",
   "name": "ir"
  },
  "language_info": {
   "codemirror_mode": "r",
   "file_extension": ".r",
   "mimetype": "text/x-r-source",
   "name": "R",
   "pygments_lexer": "r",
   "version": "4.0.0"
  }
 },
 "nbformat": 4,
 "nbformat_minor": 4
}

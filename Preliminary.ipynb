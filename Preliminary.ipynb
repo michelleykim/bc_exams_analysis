{
 "cells": [
  {
   "cell_type": "markdown",
   "metadata": {},
   "source": [
    "Question: Do public school students and private school students in BC receive the same final scores in all courses? \n",
    "\n",
    "Null hypothesis: There is no difference in the average final scores between public school students and private school students. \n",
    "\n",
    "Alternative hypothesis: Independent (private) school students receive higher average final scores than public school students in BC. "
   ]
  },
  {
   "cell_type": "code",
   "execution_count": 1,
   "metadata": {},
   "outputs": [
    {
     "name": "stderr",
     "output_type": "stream",
     "text": [
      "── \u001b[1mAttaching packages\u001b[22m ─────────────────────────────────────── tidyverse 1.3.0 ──\n",
      "\n",
      "\u001b[32m✔\u001b[39m \u001b[34mggplot2\u001b[39m 3.3.2     \u001b[32m✔\u001b[39m \u001b[34mpurrr  \u001b[39m 0.3.4\n",
      "\u001b[32m✔\u001b[39m \u001b[34mtibble \u001b[39m 3.0.3     \u001b[32m✔\u001b[39m \u001b[34mdplyr  \u001b[39m 1.0.2\n",
      "\u001b[32m✔\u001b[39m \u001b[34mtidyr  \u001b[39m 1.1.1     \u001b[32m✔\u001b[39m \u001b[34mstringr\u001b[39m 1.4.0\n",
      "\u001b[32m✔\u001b[39m \u001b[34mreadr  \u001b[39m 1.3.1     \u001b[32m✔\u001b[39m \u001b[34mforcats\u001b[39m 0.5.0\n",
      "\n",
      "Warning message:\n",
      "“package ‘ggplot2’ was built under R version 4.0.1”\n",
      "Warning message:\n",
      "“package ‘tibble’ was built under R version 4.0.2”\n",
      "Warning message:\n",
      "“package ‘tidyr’ was built under R version 4.0.2”\n",
      "Warning message:\n",
      "“package ‘dplyr’ was built under R version 4.0.2”\n",
      "── \u001b[1mConflicts\u001b[22m ────────────────────────────────────────── tidyverse_conflicts() ──\n",
      "\u001b[31m✖\u001b[39m \u001b[34mdplyr\u001b[39m::\u001b[32mfilter()\u001b[39m masks \u001b[34mstats\u001b[39m::filter()\n",
      "\u001b[31m✖\u001b[39m \u001b[34mdplyr\u001b[39m::\u001b[32mlag()\u001b[39m    masks \u001b[34mstats\u001b[39m::lag()\n",
      "\n",
      "Warning message:\n",
      "“package ‘infer’ was built under R version 4.0.2”\n"
     ]
    }
   ],
   "source": [
    "library(tidyverse)\n",
    "library(infer)"
   ]
  },
  {
   "cell_type": "code",
   "execution_count": 2,
   "metadata": {},
   "outputs": [
    {
     "name": "stderr",
     "output_type": "stream",
     "text": [
      "Parsed with column specification:\n",
      "cols(\n",
      "  .default = col_character(),\n",
      "  SCHOOL_NUMBER = \u001b[33mcol_logical()\u001b[39m,\n",
      "  SCHOOL_NAME = \u001b[33mcol_logical()\u001b[39m,\n",
      "  GRADE = \u001b[32mcol_double()\u001b[39m\n",
      ")\n",
      "\n",
      "See spec(...) for full column specifications.\n",
      "\n",
      "Warning message:\n",
      "“81714 parsing failures.\n",
      " row           col           expected                actual                                                          file\n",
      "2314 SCHOOL_NUMBER 1/0/T/F/TRUE/FALSE 00502001              'provincial-required-examinations-2016_2017_to_2019_2020.csv'\n",
      "2314 SCHOOL_NAME   1/0/T/F/TRUE/FALSE Mount Baker Secondary 'provincial-required-examinations-2016_2017_to_2019_2020.csv'\n",
      "2315 SCHOOL_NUMBER 1/0/T/F/TRUE/FALSE 00502001              'provincial-required-examinations-2016_2017_to_2019_2020.csv'\n",
      "2315 SCHOOL_NAME   1/0/T/F/TRUE/FALSE Mount Baker Secondary 'provincial-required-examinations-2016_2017_to_2019_2020.csv'\n",
      "2316 SCHOOL_NUMBER 1/0/T/F/TRUE/FALSE 00502001              'provincial-required-examinations-2016_2017_to_2019_2020.csv'\n",
      ".... ............. .................. ..................... .............................................................\n",
      "See problems(...) for more details.\n",
      "”\n"
     ]
    },
    {
     "data": {
      "text/html": [
       "<table>\n",
       "<caption>A tibble: 6 × 32</caption>\n",
       "<thead>\n",
       "\t<tr><th scope=col>SCHOOL_YEAR</th><th scope=col>DATA_LEVEL</th><th scope=col>PUBLIC_OR_INDEPENDENT</th><th scope=col>DISTRICT_NUMBER</th><th scope=col>DISTRICT_NAME</th><th scope=col>SCHOOL_NUMBER</th><th scope=col>SCHOOL_NAME</th><th scope=col>FACILITY_TYPE</th><th scope=col>SUBJECT_CATEGORY</th><th scope=col>EXAM_SUBJECT</th><th scope=col>⋯</th><th scope=col>NUMBER_OF_B</th><th scope=col>PERCENT_OF_B</th><th scope=col>NUMBER_OF_C_PLUS</th><th scope=col>PERCENT_OF_C_PLUS</th><th scope=col>NUMBER_OF_C</th><th scope=col>PERCENT_OF_C</th><th scope=col>NUMBER_OF_C_MINUS</th><th scope=col>PERCENT_OF_C_MINUS</th><th scope=col>NUMBER_OF_F</th><th scope=col>PERCENT_OF_F</th></tr>\n",
       "\t<tr><th scope=col>&lt;chr&gt;</th><th scope=col>&lt;chr&gt;</th><th scope=col>&lt;chr&gt;</th><th scope=col>&lt;chr&gt;</th><th scope=col>&lt;chr&gt;</th><th scope=col>&lt;lgl&gt;</th><th scope=col>&lt;lgl&gt;</th><th scope=col>&lt;chr&gt;</th><th scope=col>&lt;chr&gt;</th><th scope=col>&lt;chr&gt;</th><th scope=col>⋯</th><th scope=col>&lt;chr&gt;</th><th scope=col>&lt;chr&gt;</th><th scope=col>&lt;chr&gt;</th><th scope=col>&lt;chr&gt;</th><th scope=col>&lt;chr&gt;</th><th scope=col>&lt;chr&gt;</th><th scope=col>&lt;chr&gt;</th><th scope=col>&lt;chr&gt;</th><th scope=col>&lt;chr&gt;</th><th scope=col>&lt;chr&gt;</th></tr>\n",
       "</thead>\n",
       "<tbody>\n",
       "\t<tr><td>2016/2017</td><td>Province Level</td><td>Province-Total</td><td>NA</td><td>NA</td><td>NA</td><td>NA</td><td>All Facility Types</td><td>ENGLISH</td><td>ENGLISH 12 FIRST PEOPLES</td><td>⋯</td><td>76 </td><td>18 </td><td>Msk</td><td>Msk</td><td>64</td><td>15</td><td>74 </td><td>17 </td><td>126</td><td>29 </td></tr>\n",
       "\t<tr><td>2016/2017</td><td>Province Level</td><td>Province-Total</td><td>NA</td><td>NA</td><td>NA</td><td>NA</td><td>All Facility Types</td><td>ENGLISH</td><td>ENGLISH 12 FIRST PEOPLES</td><td>⋯</td><td>112</td><td>26 </td><td>77 </td><td>18 </td><td>91</td><td>21</td><td>89 </td><td>21 </td><td>Msk</td><td>Msk</td></tr>\n",
       "\t<tr><td>2016/2017</td><td>Province Level</td><td>Province-Total</td><td>NA</td><td>NA</td><td>NA</td><td>NA</td><td>All Facility Types</td><td>ENGLISH</td><td>ENGLISH 12 FIRST PEOPLES</td><td>⋯</td><td>150</td><td>35 </td><td>71 </td><td>17 </td><td>67</td><td>16</td><td>43 </td><td>10 </td><td>13 </td><td>3  </td></tr>\n",
       "\t<tr><td>2016/2017</td><td>Province Level</td><td>Province-Total</td><td>NA</td><td>NA</td><td>NA</td><td>NA</td><td>All Facility Types</td><td>ENGLISH</td><td>ENGLISH 12 FIRST PEOPLES</td><td>⋯</td><td>34 </td><td>17 </td><td>35 </td><td>18 </td><td>43</td><td>22</td><td>61 </td><td>31 </td><td>Msk</td><td>Msk</td></tr>\n",
       "\t<tr><td>2016/2017</td><td>Province Level</td><td>Province-Total</td><td>NA</td><td>NA</td><td>NA</td><td>NA</td><td>All Facility Types</td><td>ENGLISH</td><td>ENGLISH 12 FIRST PEOPLES</td><td>⋯</td><td>Msk</td><td>Msk</td><td>25 </td><td>13 </td><td>30</td><td>15</td><td>37 </td><td>19 </td><td>84 </td><td>42 </td></tr>\n",
       "\t<tr><td>2016/2017</td><td>Province Level</td><td>Province-Total</td><td>NA</td><td>NA</td><td>NA</td><td>NA</td><td>All Facility Types</td><td>ENGLISH</td><td>ENGLISH 12 FIRST PEOPLES</td><td>⋯</td><td>55 </td><td>28 </td><td>37 </td><td>19 </td><td>36</td><td>18</td><td>Msk</td><td>Msk</td><td>Msk</td><td>Msk</td></tr>\n",
       "</tbody>\n",
       "</table>\n"
      ],
      "text/latex": [
       "A tibble: 6 × 32\n",
       "\\begin{tabular}{lllllllllllllllllllll}\n",
       " SCHOOL\\_YEAR & DATA\\_LEVEL & PUBLIC\\_OR\\_INDEPENDENT & DISTRICT\\_NUMBER & DISTRICT\\_NAME & SCHOOL\\_NUMBER & SCHOOL\\_NAME & FACILITY\\_TYPE & SUBJECT\\_CATEGORY & EXAM\\_SUBJECT & ⋯ & NUMBER\\_OF\\_B & PERCENT\\_OF\\_B & NUMBER\\_OF\\_C\\_PLUS & PERCENT\\_OF\\_C\\_PLUS & NUMBER\\_OF\\_C & PERCENT\\_OF\\_C & NUMBER\\_OF\\_C\\_MINUS & PERCENT\\_OF\\_C\\_MINUS & NUMBER\\_OF\\_F & PERCENT\\_OF\\_F\\\\\n",
       " <chr> & <chr> & <chr> & <chr> & <chr> & <lgl> & <lgl> & <chr> & <chr> & <chr> & ⋯ & <chr> & <chr> & <chr> & <chr> & <chr> & <chr> & <chr> & <chr> & <chr> & <chr>\\\\\n",
       "\\hline\n",
       "\t 2016/2017 & Province Level & Province-Total & NA & NA & NA & NA & All Facility Types & ENGLISH & ENGLISH 12 FIRST PEOPLES & ⋯ & 76  & 18  & Msk & Msk & 64 & 15 & 74  & 17  & 126 & 29 \\\\\n",
       "\t 2016/2017 & Province Level & Province-Total & NA & NA & NA & NA & All Facility Types & ENGLISH & ENGLISH 12 FIRST PEOPLES & ⋯ & 112 & 26  & 77  & 18  & 91 & 21 & 89  & 21  & Msk & Msk\\\\\n",
       "\t 2016/2017 & Province Level & Province-Total & NA & NA & NA & NA & All Facility Types & ENGLISH & ENGLISH 12 FIRST PEOPLES & ⋯ & 150 & 35  & 71  & 17  & 67 & 16 & 43  & 10  & 13  & 3  \\\\\n",
       "\t 2016/2017 & Province Level & Province-Total & NA & NA & NA & NA & All Facility Types & ENGLISH & ENGLISH 12 FIRST PEOPLES & ⋯ & 34  & 17  & 35  & 18  & 43 & 22 & 61  & 31  & Msk & Msk\\\\\n",
       "\t 2016/2017 & Province Level & Province-Total & NA & NA & NA & NA & All Facility Types & ENGLISH & ENGLISH 12 FIRST PEOPLES & ⋯ & Msk & Msk & 25  & 13  & 30 & 15 & 37  & 19  & 84  & 42 \\\\\n",
       "\t 2016/2017 & Province Level & Province-Total & NA & NA & NA & NA & All Facility Types & ENGLISH & ENGLISH 12 FIRST PEOPLES & ⋯ & 55  & 28  & 37  & 19  & 36 & 18 & Msk & Msk & Msk & Msk\\\\\n",
       "\\end{tabular}\n"
      ],
      "text/markdown": [
       "\n",
       "A tibble: 6 × 32\n",
       "\n",
       "| SCHOOL_YEAR &lt;chr&gt; | DATA_LEVEL &lt;chr&gt; | PUBLIC_OR_INDEPENDENT &lt;chr&gt; | DISTRICT_NUMBER &lt;chr&gt; | DISTRICT_NAME &lt;chr&gt; | SCHOOL_NUMBER &lt;lgl&gt; | SCHOOL_NAME &lt;lgl&gt; | FACILITY_TYPE &lt;chr&gt; | SUBJECT_CATEGORY &lt;chr&gt; | EXAM_SUBJECT &lt;chr&gt; | ⋯ ⋯ | NUMBER_OF_B &lt;chr&gt; | PERCENT_OF_B &lt;chr&gt; | NUMBER_OF_C_PLUS &lt;chr&gt; | PERCENT_OF_C_PLUS &lt;chr&gt; | NUMBER_OF_C &lt;chr&gt; | PERCENT_OF_C &lt;chr&gt; | NUMBER_OF_C_MINUS &lt;chr&gt; | PERCENT_OF_C_MINUS &lt;chr&gt; | NUMBER_OF_F &lt;chr&gt; | PERCENT_OF_F &lt;chr&gt; |\n",
       "|---|---|---|---|---|---|---|---|---|---|---|---|---|---|---|---|---|---|---|---|---|\n",
       "| 2016/2017 | Province Level | Province-Total | NA | NA | NA | NA | All Facility Types | ENGLISH | ENGLISH 12 FIRST PEOPLES | ⋯ | 76  | 18  | Msk | Msk | 64 | 15 | 74  | 17  | 126 | 29  |\n",
       "| 2016/2017 | Province Level | Province-Total | NA | NA | NA | NA | All Facility Types | ENGLISH | ENGLISH 12 FIRST PEOPLES | ⋯ | 112 | 26  | 77  | 18  | 91 | 21 | 89  | 21  | Msk | Msk |\n",
       "| 2016/2017 | Province Level | Province-Total | NA | NA | NA | NA | All Facility Types | ENGLISH | ENGLISH 12 FIRST PEOPLES | ⋯ | 150 | 35  | 71  | 17  | 67 | 16 | 43  | 10  | 13  | 3   |\n",
       "| 2016/2017 | Province Level | Province-Total | NA | NA | NA | NA | All Facility Types | ENGLISH | ENGLISH 12 FIRST PEOPLES | ⋯ | 34  | 17  | 35  | 18  | 43 | 22 | 61  | 31  | Msk | Msk |\n",
       "| 2016/2017 | Province Level | Province-Total | NA | NA | NA | NA | All Facility Types | ENGLISH | ENGLISH 12 FIRST PEOPLES | ⋯ | Msk | Msk | 25  | 13  | 30 | 15 | 37  | 19  | 84  | 42  |\n",
       "| 2016/2017 | Province Level | Province-Total | NA | NA | NA | NA | All Facility Types | ENGLISH | ENGLISH 12 FIRST PEOPLES | ⋯ | 55  | 28  | 37  | 19  | 36 | 18 | Msk | Msk | Msk | Msk |\n",
       "\n"
      ],
      "text/plain": [
       "  SCHOOL_YEAR DATA_LEVEL     PUBLIC_OR_INDEPENDENT DISTRICT_NUMBER\n",
       "1 2016/2017   Province Level Province-Total        NA             \n",
       "2 2016/2017   Province Level Province-Total        NA             \n",
       "3 2016/2017   Province Level Province-Total        NA             \n",
       "4 2016/2017   Province Level Province-Total        NA             \n",
       "5 2016/2017   Province Level Province-Total        NA             \n",
       "6 2016/2017   Province Level Province-Total        NA             \n",
       "  DISTRICT_NAME SCHOOL_NUMBER SCHOOL_NAME FACILITY_TYPE      SUBJECT_CATEGORY\n",
       "1 NA            NA            NA          All Facility Types ENGLISH         \n",
       "2 NA            NA            NA          All Facility Types ENGLISH         \n",
       "3 NA            NA            NA          All Facility Types ENGLISH         \n",
       "4 NA            NA            NA          All Facility Types ENGLISH         \n",
       "5 NA            NA            NA          All Facility Types ENGLISH         \n",
       "6 NA            NA            NA          All Facility Types ENGLISH         \n",
       "  EXAM_SUBJECT             ⋯ NUMBER_OF_B PERCENT_OF_B NUMBER_OF_C_PLUS\n",
       "1 ENGLISH 12 FIRST PEOPLES ⋯ 76          18           Msk             \n",
       "2 ENGLISH 12 FIRST PEOPLES ⋯ 112         26           77              \n",
       "3 ENGLISH 12 FIRST PEOPLES ⋯ 150         35           71              \n",
       "4 ENGLISH 12 FIRST PEOPLES ⋯ 34          17           35              \n",
       "5 ENGLISH 12 FIRST PEOPLES ⋯ Msk         Msk          25              \n",
       "6 ENGLISH 12 FIRST PEOPLES ⋯ 55          28           37              \n",
       "  PERCENT_OF_C_PLUS NUMBER_OF_C PERCENT_OF_C NUMBER_OF_C_MINUS\n",
       "1 Msk               64          15           74               \n",
       "2 18                91          21           89               \n",
       "3 17                67          16           43               \n",
       "4 18                43          22           61               \n",
       "5 13                30          15           37               \n",
       "6 19                36          18           Msk              \n",
       "  PERCENT_OF_C_MINUS NUMBER_OF_F PERCENT_OF_F\n",
       "1 17                 126         29          \n",
       "2 21                 Msk         Msk         \n",
       "3 10                 13          3           \n",
       "4 31                 Msk         Msk         \n",
       "5 19                 84          42          \n",
       "6 Msk                Msk         Msk         "
      ]
     },
     "metadata": {},
     "output_type": "display_data"
    }
   ],
   "source": [
    "exam <- read_csv(\"provincial-required-examinations-2016_2017_to_2019_2020.csv\") \n",
    "head(exam)"
   ]
  },
  {
   "cell_type": "code",
   "execution_count": 3,
   "metadata": {},
   "outputs": [
    {
     "data": {
      "text/html": [
       "<table>\n",
       "<caption>A tibble: 6 × 4</caption>\n",
       "<thead>\n",
       "\t<tr><th scope=col>PUBLIC_OR_INDEPENDENT</th><th scope=col>EXAM_SUBJECT</th><th scope=col>MARK_TYPE</th><th scope=col>AVERAGE_PERCENT</th></tr>\n",
       "\t<tr><th scope=col>&lt;chr&gt;</th><th scope=col>&lt;chr&gt;</th><th scope=col>&lt;chr&gt;</th><th scope=col>&lt;dbl&gt;</th></tr>\n",
       "</thead>\n",
       "<tbody>\n",
       "\t<tr><td>BC Public School</td><td>ENGLISH 12 FIRST PEOPLES</td><td>Final Marks</td><td>68.4</td></tr>\n",
       "\t<tr><td>BC Public School</td><td>ENGLISH 12 FIRST PEOPLES</td><td>Final Marks</td><td>64.2</td></tr>\n",
       "\t<tr><td>BC Public School</td><td>ENGLISH 12 FIRST PEOPLES</td><td>Final Marks</td><td>71.3</td></tr>\n",
       "\t<tr><td>BC Public School</td><td>ENGLISH 12 FIRST PEOPLES</td><td>Final Marks</td><td>64.7</td></tr>\n",
       "\t<tr><td>BC Public School</td><td>ENGLISH 12 FIRST PEOPLES</td><td>Final Marks</td><td>69.1</td></tr>\n",
       "\t<tr><td>BC Public School</td><td>COMMUNICATIONS 12       </td><td>Final Marks</td><td>67.7</td></tr>\n",
       "</tbody>\n",
       "</table>\n"
      ],
      "text/latex": [
       "A tibble: 6 × 4\n",
       "\\begin{tabular}{llll}\n",
       " PUBLIC\\_OR\\_INDEPENDENT & EXAM\\_SUBJECT & MARK\\_TYPE & AVERAGE\\_PERCENT\\\\\n",
       " <chr> & <chr> & <chr> & <dbl>\\\\\n",
       "\\hline\n",
       "\t BC Public School & ENGLISH 12 FIRST PEOPLES & Final Marks & 68.4\\\\\n",
       "\t BC Public School & ENGLISH 12 FIRST PEOPLES & Final Marks & 64.2\\\\\n",
       "\t BC Public School & ENGLISH 12 FIRST PEOPLES & Final Marks & 71.3\\\\\n",
       "\t BC Public School & ENGLISH 12 FIRST PEOPLES & Final Marks & 64.7\\\\\n",
       "\t BC Public School & ENGLISH 12 FIRST PEOPLES & Final Marks & 69.1\\\\\n",
       "\t BC Public School & COMMUNICATIONS 12        & Final Marks & 67.7\\\\\n",
       "\\end{tabular}\n"
      ],
      "text/markdown": [
       "\n",
       "A tibble: 6 × 4\n",
       "\n",
       "| PUBLIC_OR_INDEPENDENT &lt;chr&gt; | EXAM_SUBJECT &lt;chr&gt; | MARK_TYPE &lt;chr&gt; | AVERAGE_PERCENT &lt;dbl&gt; |\n",
       "|---|---|---|---|\n",
       "| BC Public School | ENGLISH 12 FIRST PEOPLES | Final Marks | 68.4 |\n",
       "| BC Public School | ENGLISH 12 FIRST PEOPLES | Final Marks | 64.2 |\n",
       "| BC Public School | ENGLISH 12 FIRST PEOPLES | Final Marks | 71.3 |\n",
       "| BC Public School | ENGLISH 12 FIRST PEOPLES | Final Marks | 64.7 |\n",
       "| BC Public School | ENGLISH 12 FIRST PEOPLES | Final Marks | 69.1 |\n",
       "| BC Public School | COMMUNICATIONS 12        | Final Marks | 67.7 |\n",
       "\n"
      ],
      "text/plain": [
       "  PUBLIC_OR_INDEPENDENT EXAM_SUBJECT             MARK_TYPE   AVERAGE_PERCENT\n",
       "1 BC Public School      ENGLISH 12 FIRST PEOPLES Final Marks 68.4           \n",
       "2 BC Public School      ENGLISH 12 FIRST PEOPLES Final Marks 64.2           \n",
       "3 BC Public School      ENGLISH 12 FIRST PEOPLES Final Marks 71.3           \n",
       "4 BC Public School      ENGLISH 12 FIRST PEOPLES Final Marks 64.7           \n",
       "5 BC Public School      ENGLISH 12 FIRST PEOPLES Final Marks 69.1           \n",
       "6 BC Public School      COMMUNICATIONS 12        Final Marks 67.7           "
      ]
     },
     "metadata": {},
     "output_type": "display_data"
    }
   ],
   "source": [
    "exam_select <- exam %>%\n",
    "    select(PUBLIC_OR_INDEPENDENT, EXAM_SUBJECT, MARK_TYPE, AVERAGE_PERCENT) %>%\n",
    "    filter(AVERAGE_PERCENT != \"Msk\") %>% \n",
    "    filter(PUBLIC_OR_INDEPENDENT == \"BC Public School\" | PUBLIC_OR_INDEPENDENT == \"BC Independent School\") %>% \n",
    "    filter(MARK_TYPE == \"Final Marks\") %>%\n",
    "    mutate(AVERAGE_PERCENT = as.numeric(AVERAGE_PERCENT))\n",
    "\n",
    "head(exam_select)"
   ]
  },
  {
   "cell_type": "markdown",
   "metadata": {},
   "source": [
    "Exploratory data analysis:"
   ]
  },
  {
   "cell_type": "code",
   "execution_count": 4,
   "metadata": {},
   "outputs": [
    {
     "data": {
      "image/png": "[encoded data removed]",
      "text/plain": [
       "plot without title"
      ]
     },
     "metadata": {
      "image/png": {
       "height": 420,
       "width": 420
      }
     },
     "output_type": "display_data"
    }
   ],
   "source": [
    "exam_boxplot <- exam_select %>%\n",
    "    ggplot() +\n",
    "    geom_boxplot(aes(x = PUBLIC_OR_INDEPENDENT, y = AVERAGE_PERCENT)) +\n",
    "    ggtitle(\"Boxplot of school averages by school type\") + \n",
    "    xlab(\"School type\") + \n",
    "    ylab(\"Averages\")\n",
    "\n",
    "exam_boxplot"
   ]
  },
  {
   "cell_type": "code",
   "execution_count": 11,
   "metadata": {
    "scrolled": true
   },
   "outputs": [
    {
     "data": {
      "image/png": "[encoded data removed]",
      "text/plain": [
       "plot without title"
      ]
     },
     "metadata": {
      "image/png": {
       "height": 420,
       "width": 420
      }
     },
     "output_type": "display_data"
    }
   ],
   "source": [
    "exam_barplot <- exam_select %>%\n",
    "    ggplot(aes(x = PUBLIC_OR_INDEPENDENT, y = AVERAGE_PERCENT, fill = EXAM_SUBJECT)) +\n",
    "    geom_bar(stat=\"identity\", position = \"dodge\", width = 0.5) +\n",
    "    xlab(\"School type\") +\n",
    "    ggtitle(\"Barplot of final scores by school type\") \n",
    "\n",
    "exam_barplot"
   ]
  },
  {
   "cell_type": "markdown",
   "metadata": {},
   "source": [
    "Focus on English 12 course rather than all courses. "
   ]
  },
  {
   "cell_type": "code",
   "execution_count": 6,
   "metadata": {},
   "outputs": [
    {
     "data": {
      "image/png": "[encoded data removed]",
      "text/plain": [
       "plot without title"
      ]
     },
     "metadata": {
      "image/png": {
       "height": 420,
       "width": 420
      }
     },
     "output_type": "display_data"
    }
   ],
   "source": [
    "exam_english <- exam_select %>%\n",
    "    filter(EXAM_SUBJECT == \"ENGLISH 12\")\n",
    "\n",
    "english_boxplot <- exam_english %>%\n",
    "    ggplot() +\n",
    "    geom_boxplot(aes(x = PUBLIC_OR_INDEPENDENT, y = AVERAGE_PERCENT)) +\n",
    "    ggtitle(\"Boxplot of English 12 averages by school type\") + \n",
    "    xlab(\"School type\") + \n",
    "    ylab(\"Averages\") \n",
    "english_boxplot\n",
    "\n"
   ]
  },
  {
   "cell_type": "code",
   "execution_count": 7,
   "metadata": {},
   "outputs": [
    {
     "data": {
      "text/html": [
       "<table>\n",
       "<caption>A tibble: 6 × 2</caption>\n",
       "<thead>\n",
       "\t<tr><th scope=col>PUBLIC_OR_INDEPENDENT</th><th scope=col>AVERAGE_PERCENT</th></tr>\n",
       "\t<tr><th scope=col>&lt;chr&gt;</th><th scope=col>&lt;dbl&gt;</th></tr>\n",
       "</thead>\n",
       "<tbody>\n",
       "\t<tr><td>BC Public School</td><td>69.6</td></tr>\n",
       "\t<tr><td>BC Public School</td><td>68.4</td></tr>\n",
       "\t<tr><td>BC Public School</td><td>69.1</td></tr>\n",
       "\t<tr><td>BC Public School</td><td>77.7</td></tr>\n",
       "\t<tr><td>BC Public School</td><td>72.5</td></tr>\n",
       "\t<tr><td>BC Public School</td><td>72.3</td></tr>\n",
       "</tbody>\n",
       "</table>\n"
      ],
      "text/latex": [
       "A tibble: 6 × 2\n",
       "\\begin{tabular}{ll}\n",
       " PUBLIC\\_OR\\_INDEPENDENT & AVERAGE\\_PERCENT\\\\\n",
       " <chr> & <dbl>\\\\\n",
       "\\hline\n",
       "\t BC Public School & 69.6\\\\\n",
       "\t BC Public School & 68.4\\\\\n",
       "\t BC Public School & 69.1\\\\\n",
       "\t BC Public School & 77.7\\\\\n",
       "\t BC Public School & 72.5\\\\\n",
       "\t BC Public School & 72.3\\\\\n",
       "\\end{tabular}\n"
      ],
      "text/markdown": [
       "\n",
       "A tibble: 6 × 2\n",
       "\n",
       "| PUBLIC_OR_INDEPENDENT &lt;chr&gt; | AVERAGE_PERCENT &lt;dbl&gt; |\n",
       "|---|---|\n",
       "| BC Public School | 69.6 |\n",
       "| BC Public School | 68.4 |\n",
       "| BC Public School | 69.1 |\n",
       "| BC Public School | 77.7 |\n",
       "| BC Public School | 72.5 |\n",
       "| BC Public School | 72.3 |\n",
       "\n"
      ],
      "text/plain": [
       "  PUBLIC_OR_INDEPENDENT AVERAGE_PERCENT\n",
       "1 BC Public School      69.6           \n",
       "2 BC Public School      68.4           \n",
       "3 BC Public School      69.1           \n",
       "4 BC Public School      77.7           \n",
       "5 BC Public School      72.5           \n",
       "6 BC Public School      72.3           "
      ]
     },
     "metadata": {},
     "output_type": "display_data"
    }
   ],
   "source": [
    "set.seed(122)\n",
    "exam_sample_public <- exam_english %>% \n",
    "    filter(PUBLIC_OR_INDEPENDENT == \"BC Public School\") %>% \n",
    "    rep_sample_n(size = 20) \n",
    "\n",
    "exam_sample_independent <- exam_english %>%\n",
    "    filter(PUBLIC_OR_INDEPENDENT == \"BC Independent School\") %>% \n",
    "    rep_sample_n(size = 20) \n",
    "\n",
    "exam_sample <- rbind(exam_sample_public, exam_sample_independent) %>% \n",
    "    ungroup() %>% \n",
    "    select(-replicate, -EXAM_SUBJECT, -MARK_TYPE)\n",
    "\n",
    "head(exam_sample)"
   ]
  },
  {
   "cell_type": "code",
   "execution_count": 8,
   "metadata": {},
   "outputs": [
    {
     "data": {
      "text/html": [
       "<table>\n",
       "<caption>A tibble: 1 × 1</caption>\n",
       "<thead>\n",
       "\t<tr><th scope=col>stat</th></tr>\n",
       "\t<tr><th scope=col>&lt;dbl&gt;</th></tr>\n",
       "</thead>\n",
       "<tbody>\n",
       "\t<tr><td>6.09</td></tr>\n",
       "</tbody>\n",
       "</table>\n"
      ],
      "text/latex": [
       "A tibble: 1 × 1\n",
       "\\begin{tabular}{l}\n",
       " stat\\\\\n",
       " <dbl>\\\\\n",
       "\\hline\n",
       "\t 6.09\\\\\n",
       "\\end{tabular}\n"
      ],
      "text/markdown": [
       "\n",
       "A tibble: 1 × 1\n",
       "\n",
       "| stat &lt;dbl&gt; |\n",
       "|---|\n",
       "| 6.09 |\n",
       "\n"
      ],
      "text/plain": [
       "  stat\n",
       "1 6.09"
      ]
     },
     "metadata": {},
     "output_type": "display_data"
    }
   ],
   "source": [
    "obs_diff_in_mean <-   exam_sample  %>% \n",
    "    specify(formula = AVERAGE_PERCENT ~ PUBLIC_OR_INDEPENDENT) %>%\n",
    "    calculate(stat = \"diff in means\", order = c(\"BC Independent School\", \"BC Public School\"))\n",
    "obs_diff_in_mean "
   ]
  },
  {
   "cell_type": "code",
   "execution_count": 9,
   "metadata": {},
   "outputs": [
    {
     "data": {
      "text/html": [
       "<table>\n",
       "<caption>A tibble: 6 × 2</caption>\n",
       "<thead>\n",
       "\t<tr><th scope=col>replicate</th><th scope=col>stat</th></tr>\n",
       "\t<tr><th scope=col>&lt;int&gt;</th><th scope=col>&lt;dbl&gt;</th></tr>\n",
       "</thead>\n",
       "<tbody>\n",
       "\t<tr><td>1</td><td> 3.02</td></tr>\n",
       "\t<tr><td>2</td><td> 1.50</td></tr>\n",
       "\t<tr><td>3</td><td> 1.09</td></tr>\n",
       "\t<tr><td>4</td><td> 1.07</td></tr>\n",
       "\t<tr><td>5</td><td>-0.32</td></tr>\n",
       "\t<tr><td>6</td><td>-2.59</td></tr>\n",
       "</tbody>\n",
       "</table>\n"
      ],
      "text/latex": [
       "A tibble: 6 × 2\n",
       "\\begin{tabular}{ll}\n",
       " replicate & stat\\\\\n",
       " <int> & <dbl>\\\\\n",
       "\\hline\n",
       "\t 1 &  3.02\\\\\n",
       "\t 2 &  1.50\\\\\n",
       "\t 3 &  1.09\\\\\n",
       "\t 4 &  1.07\\\\\n",
       "\t 5 & -0.32\\\\\n",
       "\t 6 & -2.59\\\\\n",
       "\\end{tabular}\n"
      ],
      "text/markdown": [
       "\n",
       "A tibble: 6 × 2\n",
       "\n",
       "| replicate &lt;int&gt; | stat &lt;dbl&gt; |\n",
       "|---|---|\n",
       "| 1 |  3.02 |\n",
       "| 2 |  1.50 |\n",
       "| 3 |  1.09 |\n",
       "| 4 |  1.07 |\n",
       "| 5 | -0.32 |\n",
       "| 6 | -2.59 |\n",
       "\n"
      ],
      "text/plain": [
       "  replicate stat \n",
       "1 1          3.02\n",
       "2 2          1.50\n",
       "3 3          1.09\n",
       "4 4          1.07\n",
       "5 5         -0.32\n",
       "6 6         -2.59"
      ]
     },
     "metadata": {},
     "output_type": "display_data"
    }
   ],
   "source": [
    "null_distribution <- exam_sample %>% \n",
    "  specify(formula = AVERAGE_PERCENT ~ PUBLIC_OR_INDEPENDENT) %>% \n",
    "  hypothesize(null = \"independence\") %>% \n",
    "  generate(reps = 1000, type = \"permute\") %>% \n",
    "  calculate(stat = \"diff in means\", order = c(\"BC Independent School\", \"BC Public School\"))\n",
    "head(null_distribution)"
   ]
  },
  {
   "cell_type": "code",
   "execution_count": 10,
   "metadata": {},
   "outputs": [
    {
     "name": "stderr",
     "output_type": "stream",
     "text": [
      "Warning message:\n",
      "“Please be cautious in reporting a p-value of 0. This result is an approximation based on the number of `reps` chosen in the `generate()` step. See `?get_p_value()` for more information.”\n"
     ]
    },
    {
     "data": {
      "text/html": [
       "<table>\n",
       "<caption>A tibble: 1 × 1</caption>\n",
       "<thead>\n",
       "\t<tr><th scope=col>p_value</th></tr>\n",
       "\t<tr><th scope=col>&lt;dbl&gt;</th></tr>\n",
       "</thead>\n",
       "<tbody>\n",
       "\t<tr><td>0</td></tr>\n",
       "</tbody>\n",
       "</table>\n"
      ],
      "text/latex": [
       "A tibble: 1 × 1\n",
       "\\begin{tabular}{l}\n",
       " p\\_value\\\\\n",
       " <dbl>\\\\\n",
       "\\hline\n",
       "\t 0\\\\\n",
       "\\end{tabular}\n"
      ],
      "text/markdown": [
       "\n",
       "A tibble: 1 × 1\n",
       "\n",
       "| p_value &lt;dbl&gt; |\n",
       "|---|\n",
       "| 0 |\n",
       "\n"
      ],
      "text/plain": [
       "  p_value\n",
       "1 0      "
      ]
     },
     "metadata": {},
     "output_type": "display_data"
    },
    {
     "data": {
      "image/png": "[encoded data removed]",
      "text/plain": [
       "plot without title"
      ]
     },
     "metadata": {
      "image/png": {
       "height": 420,
       "width": 420
      }
     },
     "output_type": "display_data"
    }
   ],
   "source": [
    "visualize(null_distribution, bins = 10) + \n",
    "  shade_p_value(obs_stat = obs_diff_in_mean, direction = \"right\")\n",
    "\n",
    "null_distribution %>% \n",
    "  get_p_value(obs_stat = obs_diff_in_mean, direction = \"right\")"
   ]
  },
  {
   "cell_type": "markdown",
   "metadata": {},
   "source": [
    "At a significance level of 0.05, we reject the null hypthothesis."
   ]
  }
 ],
 "metadata": {
  "kernelspec": {
   "display_name": "R",
   "language": "R",
   "name": "ir"
  },
  "language_info": {
   "codemirror_mode": "r",
   "file_extension": ".r",
   "mimetype": "text/x-r-source",
   "name": "R",
   "pygments_lexer": "r",
   "version": "4.0.0"
  }
 },
 "nbformat": 4,
 "nbformat_minor": 4
}

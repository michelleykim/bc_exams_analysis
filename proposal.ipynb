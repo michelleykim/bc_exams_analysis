{
 "cells": [
  {
   "cell_type": "markdown",
   "metadata": {},
   "source": [
    "# STAT 201 - Proposal\n",
    "### Group 16 - Karina Grewal, Michelle Kim, Alex Lee, Janine Xu\n",
    "\n",
    "## Introduction\n",
    "\n",
    "Inequality of quality of education and achievement imbalance in public and private/independent schools students was seen in many different countries including the USA<sup>2</sup>, Mexico<sup>3</sup>, and China<sup>4</sup>. Canada spends more than 5% of the federal budget on public education, recording one of the highest in the world<sup>5</sup>. So, we became curious if we can observe a similar phenomenon in Canada, particularly BC, where the students from independent schools showcase higher academic achievement than in public schools. \n",
    "\n",
    "**Question**: Are English 12 marks higher in independent schools in BC compared to public schools?\n",
    "\n",
    "**Random variable**: average mark per school (%)\n",
    "\n",
    "**Categorical variables**: BC public school vs independent school\n",
    "\n",
    "**Location parameter**: difference in mean (if average marks are higher in private vs public schools)\n",
    "\n",
    "**Scale parameter**: standard deviation (can be used to find confidence interval and shows the spread of the data)\n",
    "\n",
    "Our dataset is from the BC Ministry of Education<sup>1</sup>, and shows examination results from 2016-2020. The dataset contains several important columns for our analysis:\n",
    "- PUBLIC_OR_INDEPENDENT (type of school, independent/public)\n",
    "- EXAM_SUBJECT (includes 4 language course types, such as English 12)\n",
    "- MARK_TYPE (type of mark given, e.g. final marks or exam marks)\n",
    "- AVERAGE_PERCENT (the average percentage in a school)\n",
    "\n",
    "We decided to look at final marks, which are the final marks for each course blending exam results and course results, to get the full picture of student scores. The only course types available were language courses, so we also focused on English 12 because it was the most commonly taken compulsory grade 12 course in BC, compared with other courses, such as Français 12, which is not offered in all schools.\n"
   ]
  },
  {
   "cell_type": "markdown",
   "metadata": {},
   "source": [
    "## Preliminary exploratory data analysis"
   ]
  },
  {
   "cell_type": "markdown",
   "metadata": {},
   "source": [
    "**Null Hypothesis**- There is no difference in the provicial examination grades in Public or independent highschools in BC \n",
    "**Alternate Hypthesis**- In BC, Independent highschools has higher provicial examination grades than Public highschools."
   ]
  },
  {
   "cell_type": "code",
   "execution_count": 1,
   "metadata": {},
   "outputs": [
    {
     "name": "stderr",
     "output_type": "stream",
     "text": [
      "── \u001b[1mAttaching packages\u001b[22m ─────────────────────────────────────── tidyverse 1.3.0 ──\n",
      "\n",
      "\u001b[32m✔\u001b[39m \u001b[34mggplot2\u001b[39m 3.3.2     \u001b[32m✔\u001b[39m \u001b[34mpurrr  \u001b[39m 0.3.4\n",
      "\u001b[32m✔\u001b[39m \u001b[34mtibble \u001b[39m 3.0.3     \u001b[32m✔\u001b[39m \u001b[34mdplyr  \u001b[39m 1.0.2\n",
      "\u001b[32m✔\u001b[39m \u001b[34mtidyr  \u001b[39m 1.1.1     \u001b[32m✔\u001b[39m \u001b[34mstringr\u001b[39m 1.4.0\n",
      "\u001b[32m✔\u001b[39m \u001b[34mreadr  \u001b[39m 1.3.1     \u001b[32m✔\u001b[39m \u001b[34mforcats\u001b[39m 0.5.0\n",
      "\n",
      "Warning message:\n",
      "“package ‘ggplot2’ was built under R version 4.0.1”\n",
      "Warning message:\n",
      "“package ‘tibble’ was built under R version 4.0.2”\n",
      "Warning message:\n",
      "“package ‘tidyr’ was built under R version 4.0.2”\n",
      "Warning message:\n",
      "“package ‘dplyr’ was built under R version 4.0.2”\n",
      "── \u001b[1mConflicts\u001b[22m ────────────────────────────────────────── tidyverse_conflicts() ──\n",
      "\u001b[31m✖\u001b[39m \u001b[34mdplyr\u001b[39m::\u001b[32mfilter()\u001b[39m masks \u001b[34mstats\u001b[39m::filter()\n",
      "\u001b[31m✖\u001b[39m \u001b[34mdplyr\u001b[39m::\u001b[32mlag()\u001b[39m    masks \u001b[34mstats\u001b[39m::lag()\n",
      "\n",
      "Warning message:\n",
      "“package ‘tidymodels’ was built under R version 4.0.2”\n",
      "── \u001b[1mAttaching packages\u001b[22m ────────────────────────────────────── tidymodels 0.1.1 ──\n",
      "\n",
      "\u001b[32m✔\u001b[39m \u001b[34mbroom    \u001b[39m 0.7.0      \u001b[32m✔\u001b[39m \u001b[34mrecipes  \u001b[39m 0.1.13\n",
      "\u001b[32m✔\u001b[39m \u001b[34mdials    \u001b[39m 0.0.8      \u001b[32m✔\u001b[39m \u001b[34mrsample  \u001b[39m 0.0.7 \n",
      "\u001b[32m✔\u001b[39m \u001b[34minfer    \u001b[39m 0.5.3      \u001b[32m✔\u001b[39m \u001b[34mtune     \u001b[39m 0.1.1 \n",
      "\u001b[32m✔\u001b[39m \u001b[34mmodeldata\u001b[39m 0.0.2      \u001b[32m✔\u001b[39m \u001b[34mworkflows\u001b[39m 0.1.3 \n",
      "\u001b[32m✔\u001b[39m \u001b[34mparsnip  \u001b[39m 0.1.3      \u001b[32m✔\u001b[39m \u001b[34myardstick\u001b[39m 0.0.7 \n",
      "\n",
      "Warning message:\n",
      "“package ‘broom’ was built under R version 4.0.2”\n",
      "Warning message:\n",
      "“package ‘dials’ was built under R version 4.0.2”\n",
      "Warning message:\n",
      "“package ‘infer’ was built under R version 4.0.2”\n",
      "Warning message:\n",
      "“package ‘modeldata’ was built under R version 4.0.1”\n",
      "Warning message:\n",
      "“package ‘parsnip’ was built under R version 4.0.2”\n",
      "Warning message:\n",
      "“package ‘recipes’ was built under R version 4.0.1”\n",
      "Warning message:\n",
      "“package ‘tune’ was built under R version 4.0.2”\n",
      "Warning message:\n",
      "“package ‘workflows’ was built under R version 4.0.2”\n",
      "Warning message:\n",
      "“package ‘yardstick’ was built under R version 4.0.2”\n",
      "── \u001b[1mConflicts\u001b[22m ───────────────────────────────────────── tidymodels_conflicts() ──\n",
      "\u001b[31m✖\u001b[39m \u001b[34mscales\u001b[39m::\u001b[32mdiscard()\u001b[39m masks \u001b[34mpurrr\u001b[39m::discard()\n",
      "\u001b[31m✖\u001b[39m \u001b[34mdplyr\u001b[39m::\u001b[32mfilter()\u001b[39m   masks \u001b[34mstats\u001b[39m::filter()\n",
      "\u001b[31m✖\u001b[39m \u001b[34mrecipes\u001b[39m::\u001b[32mfixed()\u001b[39m  masks \u001b[34mstringr\u001b[39m::fixed()\n",
      "\u001b[31m✖\u001b[39m \u001b[34mdplyr\u001b[39m::\u001b[32mlag()\u001b[39m      masks \u001b[34mstats\u001b[39m::lag()\n",
      "\u001b[31m✖\u001b[39m \u001b[34myardstick\u001b[39m::\u001b[32mspec()\u001b[39m masks \u001b[34mreadr\u001b[39m::spec()\n",
      "\u001b[31m✖\u001b[39m \u001b[34mrecipes\u001b[39m::\u001b[32mstep()\u001b[39m   masks \u001b[34mstats\u001b[39m::step()\n",
      "\n"
     ]
    }
   ],
   "source": [
    "### Run this cell before continuing. \n",
    "library(tidyverse)\n",
    "library(tidymodels)\n",
    "library(repr)\n",
    "options(repr.matrix.max.rows = 6)"
   ]
  },
  {
   "cell_type": "code",
   "execution_count": 2,
   "metadata": {},
   "outputs": [
    {
     "name": "stderr",
     "output_type": "stream",
     "text": [
      "Parsed with column specification:\n",
      "cols(\n",
      "  .default = col_character(),\n",
      "  SCHOOL_NUMBER = \u001b[33mcol_logical()\u001b[39m,\n",
      "  SCHOOL_NAME = \u001b[33mcol_logical()\u001b[39m,\n",
      "  GRADE = \u001b[32mcol_double()\u001b[39m\n",
      ")\n",
      "\n",
      "See spec(...) for full column specifications.\n",
      "\n",
      "Warning message:\n",
      "“81714 parsing failures.\n",
      " row           col           expected                actual                                                                                                                                     file\n",
      "2314 SCHOOL_NUMBER 1/0/T/F/TRUE/FALSE 00502001              'https://raw.githubusercontent.com/michelleykim/bc_exams_analysis/main/data/provincial-required-examinations-2016_2017_to_2019_2020.csv'\n",
      "2314 SCHOOL_NAME   1/0/T/F/TRUE/FALSE Mount Baker Secondary 'https://raw.githubusercontent.com/michelleykim/bc_exams_analysis/main/data/provincial-required-examinations-2016_2017_to_2019_2020.csv'\n",
      "2315 SCHOOL_NUMBER 1/0/T/F/TRUE/FALSE 00502001              'https://raw.githubusercontent.com/michelleykim/bc_exams_analysis/main/data/provincial-required-examinations-2016_2017_to_2019_2020.csv'\n",
      "2315 SCHOOL_NAME   1/0/T/F/TRUE/FALSE Mount Baker Secondary 'https://raw.githubusercontent.com/michelleykim/bc_exams_analysis/main/data/provincial-required-examinations-2016_2017_to_2019_2020.csv'\n",
      "2316 SCHOOL_NUMBER 1/0/T/F/TRUE/FALSE 00502001              'https://raw.githubusercontent.com/michelleykim/bc_exams_analysis/main/data/provincial-required-examinations-2016_2017_to_2019_2020.csv'\n",
      ".... ............. .................. ..................... ........................................................................................................................................\n",
      "See problems(...) for more details.\n",
      "”\n",
      "`summarise()` ungrouping output (override with `.groups` argument)\n",
      "\n"
     ]
    },
    {
     "data": {
      "text/html": [
       "<table>\n",
       "<caption>A tibble: 3 × 2</caption>\n",
       "<thead>\n",
       "\t<tr><th scope=col>PUBLIC_OR_INDEPENDENT</th><th scope=col>n</th></tr>\n",
       "\t<tr><th scope=col>&lt;chr&gt;</th><th scope=col>&lt;int&gt;</th></tr>\n",
       "</thead>\n",
       "<tbody>\n",
       "\t<tr><td>BC Independent School</td><td> 7377</td></tr>\n",
       "\t<tr><td>BC Public School     </td><td>41316</td></tr>\n",
       "\t<tr><td>Province-Total       </td><td>  225</td></tr>\n",
       "</tbody>\n",
       "</table>\n"
      ],
      "text/latex": [
       "A tibble: 3 × 2\n",
       "\\begin{tabular}{ll}\n",
       " PUBLIC\\_OR\\_INDEPENDENT & n\\\\\n",
       " <chr> & <int>\\\\\n",
       "\\hline\n",
       "\t BC Independent School &  7377\\\\\n",
       "\t BC Public School      & 41316\\\\\n",
       "\t Province-Total        &   225\\\\\n",
       "\\end{tabular}\n"
      ],
      "text/markdown": [
       "\n",
       "A tibble: 3 × 2\n",
       "\n",
       "| PUBLIC_OR_INDEPENDENT &lt;chr&gt; | n &lt;int&gt; |\n",
       "|---|---|\n",
       "| BC Independent School |  7377 |\n",
       "| BC Public School      | 41316 |\n",
       "| Province-Total        |   225 |\n",
       "\n"
      ],
      "text/plain": [
       "  PUBLIC_OR_INDEPENDENT n    \n",
       "1 BC Independent School  7377\n",
       "2 BC Public School      41316\n",
       "3 Province-Total          225"
      ]
     },
     "metadata": {},
     "output_type": "display_data"
    },
    {
     "data": {
      "text/html": [
       "<table>\n",
       "<caption>A tibble: 6 × 4</caption>\n",
       "<thead>\n",
       "\t<tr><th scope=col>PUBLIC_OR_INDEPENDENT</th><th scope=col>AVERAGE_PERCENT</th><th scope=col>MARK_TYPE</th><th scope=col>EXAM_SUBJECT</th></tr>\n",
       "\t<tr><th scope=col>&lt;chr&gt;</th><th scope=col>&lt;dbl&gt;</th><th scope=col>&lt;chr&gt;</th><th scope=col>&lt;chr&gt;</th></tr>\n",
       "</thead>\n",
       "<tbody>\n",
       "\t<tr><td>BC Public School     </td><td>73.2</td><td>Final Marks</td><td>ENGLISH 12</td></tr>\n",
       "\t<tr><td>BC Public School     </td><td>68.2</td><td>Final Marks</td><td>ENGLISH 12</td></tr>\n",
       "\t<tr><td>BC Public School     </td><td>73.6</td><td>Final Marks</td><td>ENGLISH 12</td></tr>\n",
       "\t<tr><td>BC Public School     </td><td>70.6</td><td>Final Marks</td><td>ENGLISH 12</td></tr>\n",
       "\t<tr><td>BC Public School     </td><td>73.4</td><td>Final Marks</td><td>ENGLISH 12</td></tr>\n",
       "\t<tr><td>BC Independent School</td><td>78.2</td><td>Final Marks</td><td>ENGLISH 12</td></tr>\n",
       "</tbody>\n",
       "</table>\n"
      ],
      "text/latex": [
       "A tibble: 6 × 4\n",
       "\\begin{tabular}{llll}\n",
       " PUBLIC\\_OR\\_INDEPENDENT & AVERAGE\\_PERCENT & MARK\\_TYPE & EXAM\\_SUBJECT\\\\\n",
       " <chr> & <dbl> & <chr> & <chr>\\\\\n",
       "\\hline\n",
       "\t BC Public School      & 73.2 & Final Marks & ENGLISH 12\\\\\n",
       "\t BC Public School      & 68.2 & Final Marks & ENGLISH 12\\\\\n",
       "\t BC Public School      & 73.6 & Final Marks & ENGLISH 12\\\\\n",
       "\t BC Public School      & 70.6 & Final Marks & ENGLISH 12\\\\\n",
       "\t BC Public School      & 73.4 & Final Marks & ENGLISH 12\\\\\n",
       "\t BC Independent School & 78.2 & Final Marks & ENGLISH 12\\\\\n",
       "\\end{tabular}\n"
      ],
      "text/markdown": [
       "\n",
       "A tibble: 6 × 4\n",
       "\n",
       "| PUBLIC_OR_INDEPENDENT &lt;chr&gt; | AVERAGE_PERCENT &lt;dbl&gt; | MARK_TYPE &lt;chr&gt; | EXAM_SUBJECT &lt;chr&gt; |\n",
       "|---|---|---|---|\n",
       "| BC Public School      | 73.2 | Final Marks | ENGLISH 12 |\n",
       "| BC Public School      | 68.2 | Final Marks | ENGLISH 12 |\n",
       "| BC Public School      | 73.6 | Final Marks | ENGLISH 12 |\n",
       "| BC Public School      | 70.6 | Final Marks | ENGLISH 12 |\n",
       "| BC Public School      | 73.4 | Final Marks | ENGLISH 12 |\n",
       "| BC Independent School | 78.2 | Final Marks | ENGLISH 12 |\n",
       "\n"
      ],
      "text/plain": [
       "  PUBLIC_OR_INDEPENDENT AVERAGE_PERCENT MARK_TYPE   EXAM_SUBJECT\n",
       "1 BC Public School      73.2            Final Marks ENGLISH 12  \n",
       "2 BC Public School      68.2            Final Marks ENGLISH 12  \n",
       "3 BC Public School      73.6            Final Marks ENGLISH 12  \n",
       "4 BC Public School      70.6            Final Marks ENGLISH 12  \n",
       "5 BC Public School      73.4            Final Marks ENGLISH 12  \n",
       "6 BC Independent School 78.2            Final Marks ENGLISH 12  "
      ]
     },
     "metadata": {},
     "output_type": "display_data"
    }
   ],
   "source": [
    "# reading data from the web\n",
    "exam_data <- read_delim(\"https://raw.githubusercontent.com/michelleykim/bc_exams_analysis/main/data/provincial-required-examinations-2016_2017_to_2019_2020.csv\", delim = \",\")\n",
    "\n",
    "# check if data size is sufficient\n",
    "exam_test<-exam_data %>% \n",
    "    select(PUBLIC_OR_INDEPENDENT) %>% \n",
    "    group_by(PUBLIC_OR_INDEPENDENT) %>% \n",
    "    summarize(n=n())\n",
    "\n",
    "exam_test\n",
    "\n",
    "# clean and wrangle data into tidy format\n",
    "exam_school_type <- exam_data  %>% \n",
    "                    select(PUBLIC_OR_INDEPENDENT, AVERAGE_PERCENT, MARK_TYPE, EXAM_SUBJECT) %>% \n",
    "                    filter(AVERAGE_PERCENT != \"Msk\") %>% \n",
    "                    filter(PUBLIC_OR_INDEPENDENT == \"BC Public School\" |PUBLIC_OR_INDEPENDENT == \"BC Independent School\") %>%\n",
    "                    filter(EXAM_SUBJECT == \"ENGLISH 12\" & MARK_TYPE == \"Final Marks\" ) %>% \n",
    "                    mutate(AVERAGE_PERCENT = as.numeric(AVERAGE_PERCENT))\n",
    "head(exam_school_type)"
   ]
  },
  {
   "cell_type": "code",
   "execution_count": 3,
   "metadata": {},
   "outputs": [
    {
     "data": {
      "text/html": [
       "<table>\n",
       "<caption>A tibble: 6 × 3</caption>\n",
       "<thead>\n",
       "\t<tr><th scope=col>PUBLIC_OR_INDEPENDENT</th><th scope=col>AVERAGE_PERCENT</th><th scope=col>EXAM_SUBJECT</th></tr>\n",
       "\t<tr><th scope=col>&lt;chr&gt;</th><th scope=col>&lt;dbl&gt;</th><th scope=col>&lt;chr&gt;</th></tr>\n",
       "</thead>\n",
       "<tbody>\n",
       "\t<tr><td>BC Public School</td><td>69.6</td><td>ENGLISH 12</td></tr>\n",
       "\t<tr><td>BC Public School</td><td>68.4</td><td>ENGLISH 12</td></tr>\n",
       "\t<tr><td>BC Public School</td><td>69.1</td><td>ENGLISH 12</td></tr>\n",
       "\t<tr><td>BC Public School</td><td>77.7</td><td>ENGLISH 12</td></tr>\n",
       "\t<tr><td>BC Public School</td><td>72.5</td><td>ENGLISH 12</td></tr>\n",
       "\t<tr><td>BC Public School</td><td>72.3</td><td>ENGLISH 12</td></tr>\n",
       "</tbody>\n",
       "</table>\n"
      ],
      "text/latex": [
       "A tibble: 6 × 3\n",
       "\\begin{tabular}{lll}\n",
       " PUBLIC\\_OR\\_INDEPENDENT & AVERAGE\\_PERCENT & EXAM\\_SUBJECT\\\\\n",
       " <chr> & <dbl> & <chr>\\\\\n",
       "\\hline\n",
       "\t BC Public School & 69.6 & ENGLISH 12\\\\\n",
       "\t BC Public School & 68.4 & ENGLISH 12\\\\\n",
       "\t BC Public School & 69.1 & ENGLISH 12\\\\\n",
       "\t BC Public School & 77.7 & ENGLISH 12\\\\\n",
       "\t BC Public School & 72.5 & ENGLISH 12\\\\\n",
       "\t BC Public School & 72.3 & ENGLISH 12\\\\\n",
       "\\end{tabular}\n"
      ],
      "text/markdown": [
       "\n",
       "A tibble: 6 × 3\n",
       "\n",
       "| PUBLIC_OR_INDEPENDENT &lt;chr&gt; | AVERAGE_PERCENT &lt;dbl&gt; | EXAM_SUBJECT &lt;chr&gt; |\n",
       "|---|---|---|\n",
       "| BC Public School | 69.6 | ENGLISH 12 |\n",
       "| BC Public School | 68.4 | ENGLISH 12 |\n",
       "| BC Public School | 69.1 | ENGLISH 12 |\n",
       "| BC Public School | 77.7 | ENGLISH 12 |\n",
       "| BC Public School | 72.5 | ENGLISH 12 |\n",
       "| BC Public School | 72.3 | ENGLISH 12 |\n",
       "\n"
      ],
      "text/plain": [
       "  PUBLIC_OR_INDEPENDENT AVERAGE_PERCENT EXAM_SUBJECT\n",
       "1 BC Public School      69.6            ENGLISH 12  \n",
       "2 BC Public School      68.4            ENGLISH 12  \n",
       "3 BC Public School      69.1            ENGLISH 12  \n",
       "4 BC Public School      77.7            ENGLISH 12  \n",
       "5 BC Public School      72.5            ENGLISH 12  \n",
       "6 BC Public School      72.3            ENGLISH 12  "
      ]
     },
     "metadata": {},
     "output_type": "display_data"
    }
   ],
   "source": [
    "#get sample\n",
    "set.seed(122)\n",
    "exam_school_type_sample_public <- exam_school_type %>% \n",
    "        filter(PUBLIC_OR_INDEPENDENT == \"BC Public School\") %>% \n",
    "        rep_sample_n(size = 40) \n",
    "\n",
    "exam_school_type_sample_Independent <- exam_school_type %>% \n",
    "        filter(PUBLIC_OR_INDEPENDENT == \"BC Independent School\") %>% \n",
    "        rep_sample_n(size = 40) \n",
    "\n",
    "exam_school_type_sample <- rbind(exam_school_type_sample_public, \n",
    "                                 exam_school_type_sample_Independent) %>% \n",
    "                        ungroup() %>% \n",
    "                        select(-replicate, -MARK_TYPE)\n",
    "head(exam_school_type_sample)"
   ]
  },
  {
   "cell_type": "code",
   "execution_count": 4,
   "metadata": {},
   "outputs": [
    {
     "name": "stderr",
     "output_type": "stream",
     "text": [
      "`summarise()` regrouping output by 'PUBLIC_OR_INDEPENDENT' (override with `.groups` argument)\n",
      "\n"
     ]
    },
    {
     "data": {
      "text/html": [
       "<table>\n",
       "<caption>A grouped_df: 2 × 4</caption>\n",
       "<thead>\n",
       "\t<tr><th scope=col>PUBLIC_OR_INDEPENDENT</th><th scope=col>EXAM_SUBJECT</th><th scope=col>mean</th><th scope=col>sd</th></tr>\n",
       "\t<tr><th scope=col>&lt;chr&gt;</th><th scope=col>&lt;chr&gt;</th><th scope=col>&lt;dbl&gt;</th><th scope=col>&lt;dbl&gt;</th></tr>\n",
       "</thead>\n",
       "<tbody>\n",
       "\t<tr><td>BC Independent School</td><td>ENGLISH 12</td><td>79.2775</td><td>6.059851</td></tr>\n",
       "\t<tr><td>BC Public School     </td><td>ENGLISH 12</td><td>71.9425</td><td>4.295787</td></tr>\n",
       "</tbody>\n",
       "</table>\n"
      ],
      "text/latex": [
       "A grouped\\_df: 2 × 4\n",
       "\\begin{tabular}{llll}\n",
       " PUBLIC\\_OR\\_INDEPENDENT & EXAM\\_SUBJECT & mean & sd\\\\\n",
       " <chr> & <chr> & <dbl> & <dbl>\\\\\n",
       "\\hline\n",
       "\t BC Independent School & ENGLISH 12 & 79.2775 & 6.059851\\\\\n",
       "\t BC Public School      & ENGLISH 12 & 71.9425 & 4.295787\\\\\n",
       "\\end{tabular}\n"
      ],
      "text/markdown": [
       "\n",
       "A grouped_df: 2 × 4\n",
       "\n",
       "| PUBLIC_OR_INDEPENDENT &lt;chr&gt; | EXAM_SUBJECT &lt;chr&gt; | mean &lt;dbl&gt; | sd &lt;dbl&gt; |\n",
       "|---|---|---|---|\n",
       "| BC Independent School | ENGLISH 12 | 79.2775 | 6.059851 |\n",
       "| BC Public School      | ENGLISH 12 | 71.9425 | 4.295787 |\n",
       "\n"
      ],
      "text/plain": [
       "  PUBLIC_OR_INDEPENDENT EXAM_SUBJECT mean    sd      \n",
       "1 BC Independent School ENGLISH 12   79.2775 6.059851\n",
       "2 BC Public School      ENGLISH 12   71.9425 4.295787"
      ]
     },
     "metadata": {},
     "output_type": "display_data"
    },
    {
     "data": {
      "text/html": [
       "<table>\n",
       "<caption>A tibble: 1 × 1</caption>\n",
       "<thead>\n",
       "\t<tr><th scope=col>diff_in_mean</th></tr>\n",
       "\t<tr><th scope=col>&lt;dbl&gt;</th></tr>\n",
       "</thead>\n",
       "<tbody>\n",
       "\t<tr><td>7.335</td></tr>\n",
       "</tbody>\n",
       "</table>\n"
      ],
      "text/latex": [
       "A tibble: 1 × 1\n",
       "\\begin{tabular}{l}\n",
       " diff\\_in\\_mean\\\\\n",
       " <dbl>\\\\\n",
       "\\hline\n",
       "\t 7.335\\\\\n",
       "\\end{tabular}\n"
      ],
      "text/markdown": [
       "\n",
       "A tibble: 1 × 1\n",
       "\n",
       "| diff_in_mean &lt;dbl&gt; |\n",
       "|---|\n",
       "| 7.335 |\n",
       "\n"
      ],
      "text/plain": [
       "  diff_in_mean\n",
       "1 7.335       "
      ]
     },
     "metadata": {},
     "output_type": "display_data"
    }
   ],
   "source": [
    "# getting the mean and standard deviation of average percent for each school type \n",
    "#   and the diff of their mean (BC Independent School - BC Public School)\n",
    "data_for_each_catetegory<- exam_school_type_sample %>% \n",
    "                group_by(PUBLIC_OR_INDEPENDENT, EXAM_SUBJECT) %>% \n",
    "                summarize(mean = mean(AVERAGE_PERCENT),\n",
    "                          sd = sd(AVERAGE_PERCENT))\n",
    "obs_diff_in_mean <-   exam_school_type_sample  %>% \n",
    "    specify(formula = AVERAGE_PERCENT ~ PUBLIC_OR_INDEPENDENT) %>%\n",
    "    calculate(stat = \"diff in means\", order = c(\"BC Independent School\", \"BC Public School\")) %>% \n",
    "    mutate(diff_in_mean = stat) %>% \n",
    "    select(-stat)\n",
    "\n",
    "data_for_each_catetegory\n",
    "obs_diff_in_mean"
   ]
  },
  {
   "cell_type": "code",
   "execution_count": 5,
   "metadata": {},
   "outputs": [
    {
     "data": {
      "image/png": "[encoded data removed]",
      "text/plain": [
       "plot without title"
      ]
     },
     "metadata": {
      "image/png": {
       "height": 420,
       "width": 420
      }
     },
     "output_type": "display_data"
    },
    {
     "data": {
      "image/png": "[encoded data removed]",
      "text/plain": [
       "plot without title"
      ]
     },
     "metadata": {
      "image/png": {
       "height": 420,
       "width": 420
      }
     },
     "output_type": "display_data"
    }
   ],
   "source": [
    "# generate bar graph\n",
    "exam_barplot <- data_for_each_catetegory %>%\n",
    "    ggplot(aes(x = PUBLIC_OR_INDEPENDENT, y = mean, , fill = EXAM_SUBJECT )) +\n",
    "    geom_bar(stat=\"identity\", position = \"dodge\", width = 0.5) +\n",
    "    xlab(\"School type (Public or Independent)\") +\n",
    "    ylab(\"mean of average percent (%)\") +\n",
    "    ggtitle(\"Barplot of final scores mean of the 2 school types (Public or Independent)\") \n",
    "exam_barplot\n",
    "\n",
    "# generate boxplot \n",
    "exam_boxplot <- exam_school_type_sample %>%\n",
    "    ggplot() +\n",
    "    geom_boxplot(aes(x = PUBLIC_OR_INDEPENDENT, y = AVERAGE_PERCENT)) +\n",
    "    ggtitle(\"Boxplot of school means by school type (Public or Independent)\") + \n",
    "    xlab(\"School type (Public or Independent)\") + \n",
    "    ylab(\"Averages (%)\")\n",
    "\n",
    "exam_boxplot"
   ]
  },
  {
   "cell_type": "markdown",
   "metadata": {},
   "source": [
    "## Methods\n",
    "\n",
    "Our report is trustworthy as our data came from an official government source for grades of all grade 12 students studying in BC. Therefore, it will be appropriate to generalize our findings to all grade 12 students in BC highschools. Our sampling methods were random to ensure the most accurate results. \n",
    "\n",
    "The boxplot appears to show that independent schools have a higher average, but we cannot reach a conclusion without conducting a hypothesis test. With that test we will be able to tell whether our findings are statistically significant.\n",
    "\n",
    "We will conduct a one sided hypothesis test;\n",
    "- H<sub>0</sub>: There is no difference in the final English 12 grades in public or independent high schools in BC\n",
    "- H<sub>A</sub>: In BC, independent high schools have higher English 12 final grades than public high schools\n",
    "\n",
    "Our confidence intervals will cover the mean grades of each type of school as well as the difference in mean grades.\n",
    "\n",
    "Since our data doesn’t break any of the 3 rules needed to perform CLT, we plan to use the t-test to perform our hypothesis testing  \n",
    "\n",
    "We expect to find that the mean final grade for English 12 students at BC independent schools will have higher scores than students at BC public schools. The findings could potentially influence current and future parents' decisions on where to send their children to receive an education. Future questions can ask if a family's socio-economic status affects their children’s grades."
   ]
  },
  {
   "cell_type": "markdown",
   "metadata": {},
   "source": [
    "## Reference\n",
    "\n",
    "1. Analysis and Reporting Unit, Ministry of Education. (2020). BC schools grade 10, 11, 12 examinations results 2016/2017 to 2019/2020. British Columbia. \n",
    "2.  Chen, G. (2019, April 5). Public School vs. Private School. Public School Review. https://www.publicschoolreview.com/blog/public-school-vs-private-school#:%7E:text=Private%20school%20students%20generally%20perform,counterparts%20on%20standardized%20achievement%20tests.&text=Their%20average%20scores%20were%20above,science%20and%20mathematics%20proficiency%20tests.\n",
    "3. Hernández-Gálvez, D. C., & Roldán-Valadez, E. (2019). Mexican ENARM: performance comparison of public vs. private medical schools, geographic and socioeconomic regions. Salud Pública de México, 61(5, sep-oct), 637. https://doi.org/10.21149/10078\n",
    "4. Ma, Y., Hou, X., Huang, J., Wang, W., Li, Y., Zhou, X., & Du, X. (2018). Educational inequality and achievement disparity: An empirical study of migrant children in China. Children and Youth Services Review, 87, 145–153. https://doi.org/10.1016/j.childyouth.2018.02.026\n",
    "5. UNESCO Institute for Statistics. (2020, September). Government expenditure on education, total (% of government expenditure) [Total general (local, regional and central) government expenditure on education (current, capital, and transfers), expressed as a percentage of GDP. It includes expenditure funded by transfers from international sources to government.]. The World Bank. https://data.worldbank.org/indicator/SE.XPD.TOTL.GB.ZS\n"
   ]
  },
  {
   "cell_type": "code",
   "execution_count": null,
   "metadata": {},
   "outputs": [],
   "source": []
  }
 ],
 "metadata": {
  "kernelspec": {
   "display_name": "R",
   "language": "R",
   "name": "ir"
  },
  "language_info": {
   "codemirror_mode": "r",
   "file_extension": ".r",
   "mimetype": "text/x-r-source",
   "name": "R",
   "pygments_lexer": "r",
   "version": "4.0.0"
  }
 },
 "nbformat": 4,
 "nbformat_minor": 4
}

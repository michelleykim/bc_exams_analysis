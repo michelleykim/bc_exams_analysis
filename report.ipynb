{
 "cells": [
  {
   "cell_type": "markdown",
   "metadata": {},
   "source": [
    "# Difference in English 12 averages for public vs. private school students\n",
    "### STAT 201 Group 16 - Karina Grewal, Michelle Kim, Alex Lee, Janine Xu\n",
    "\n",
    "## Introduction\n",
    "\n",
    "Inequality of quality of education and achievement imbalance in public and private/independent schools students was seen in many different countries including the USA<sup>2</sup>, Mexico<sup>3</sup>, and China<sup>4</sup>. Canada spends more than 5% of the federal budget on public education, recording one of the highest in the world<sup>5</sup>. Private schools, in general, are thought to provide a better education than public schools. Due to the high tuition cost, independent schools may have better resources and more qualified teachers. Public schools may have larger class sizes, so students may have less support in their learning. So, we became curious if we can observe a similar phenomenon in Canada, particularly BC, where the students from independent schools showcase higher academic achievement than in public schools.\n",
    "\n",
    "**Question**: Are English 12 marks higher in independent schools in BC compared to public schools?\n",
    "\n",
    "**Random variable**: average mark per school (%)\n",
    "\n",
    "**Categorical variables**: BC public school vs independent school\n",
    "\n",
    "**Location parameter**: difference in mean (if average marks are higher in private vs public schools)\n",
    "\n",
    "**Scale parameter**: standard deviation (can be used to find confidence interval and shows the spread of the data)\n",
    "\n",
    "Our dataset is from the BC Ministry of Education⁵ and shows examination results from 2016-2020. The dataset contains several important columns for our analysis:\n",
    "- PUBLIC_OR_INDEPENDENT (type of school, independent/public)\n",
    "- EXAM_SUBJECT (includes 4 language course types, such as English 12)\n",
    "- MARK_TYPE (type of mark given, e.g. final marks or exam marks)\n",
    "- AVERAGE_PERCENT (the average percentage in a school)\n",
    "\n",
    "We decided to look at final marks, which are the final marks for each course blending exam results and course results, to get the full picture of student scores. The only course types available were language courses, so we also focused on English 12 because it was the most commonly taken compulsory grade 12 course in BC, compared with other courses, such as Français 12, which is only offered in French Immersion schools.\n"
   ]
  },
  {
   "cell_type": "markdown",
   "metadata": {},
   "source": [
    "## Methods and Results"
   ]
  },
  {
   "cell_type": "code",
   "execution_count": 1,
   "metadata": {},
   "outputs": [
    {
     "name": "stderr",
     "output_type": "stream",
     "text": [
      "── \u001b[1mAttaching packages\u001b[22m ─────────────────────────────────────── tidyverse 1.3.0 ──\n",
      "\n",
      "\u001b[32m✔\u001b[39m \u001b[34mggplot2\u001b[39m 3.3.2     \u001b[32m✔\u001b[39m \u001b[34mpurrr  \u001b[39m 0.3.4\n",
      "\u001b[32m✔\u001b[39m \u001b[34mtibble \u001b[39m 3.0.3     \u001b[32m✔\u001b[39m \u001b[34mdplyr  \u001b[39m 1.0.2\n",
      "\u001b[32m✔\u001b[39m \u001b[34mtidyr  \u001b[39m 1.1.1     \u001b[32m✔\u001b[39m \u001b[34mstringr\u001b[39m 1.4.0\n",
      "\u001b[32m✔\u001b[39m \u001b[34mreadr  \u001b[39m 1.3.1     \u001b[32m✔\u001b[39m \u001b[34mforcats\u001b[39m 0.5.0\n",
      "\n",
      "Warning message:\n",
      "“package ‘ggplot2’ was built under R version 4.0.1”\n",
      "Warning message:\n",
      "“package ‘tibble’ was built under R version 4.0.2”\n",
      "Warning message:\n",
      "“package ‘tidyr’ was built under R version 4.0.2”\n",
      "Warning message:\n",
      "“package ‘dplyr’ was built under R version 4.0.2”\n",
      "── \u001b[1mConflicts\u001b[22m ────────────────────────────────────────── tidyverse_conflicts() ──\n",
      "\u001b[31m✖\u001b[39m \u001b[34mdplyr\u001b[39m::\u001b[32mfilter()\u001b[39m masks \u001b[34mstats\u001b[39m::filter()\n",
      "\u001b[31m✖\u001b[39m \u001b[34mdplyr\u001b[39m::\u001b[32mlag()\u001b[39m    masks \u001b[34mstats\u001b[39m::lag()\n",
      "\n",
      "Warning message:\n",
      "“package ‘tidymodels’ was built under R version 4.0.2”\n",
      "── \u001b[1mAttaching packages\u001b[22m ────────────────────────────────────── tidymodels 0.1.1 ──\n",
      "\n",
      "\u001b[32m✔\u001b[39m \u001b[34mbroom    \u001b[39m 0.7.0      \u001b[32m✔\u001b[39m \u001b[34mrecipes  \u001b[39m 0.1.13\n",
      "\u001b[32m✔\u001b[39m \u001b[34mdials    \u001b[39m 0.0.8      \u001b[32m✔\u001b[39m \u001b[34mrsample  \u001b[39m 0.0.7 \n",
      "\u001b[32m✔\u001b[39m \u001b[34minfer    \u001b[39m 0.5.3      \u001b[32m✔\u001b[39m \u001b[34mtune     \u001b[39m 0.1.1 \n",
      "\u001b[32m✔\u001b[39m \u001b[34mmodeldata\u001b[39m 0.0.2      \u001b[32m✔\u001b[39m \u001b[34mworkflows\u001b[39m 0.1.3 \n",
      "\u001b[32m✔\u001b[39m \u001b[34mparsnip  \u001b[39m 0.1.3      \u001b[32m✔\u001b[39m \u001b[34myardstick\u001b[39m 0.0.7 \n",
      "\n",
      "Warning message:\n",
      "“package ‘broom’ was built under R version 4.0.2”\n",
      "Warning message:\n",
      "“package ‘dials’ was built under R version 4.0.2”\n",
      "Warning message:\n",
      "“package ‘infer’ was built under R version 4.0.2”\n",
      "Warning message:\n",
      "“package ‘modeldata’ was built under R version 4.0.1”\n",
      "Warning message:\n",
      "“package ‘parsnip’ was built under R version 4.0.2”\n",
      "Warning message:\n",
      "“package ‘recipes’ was built under R version 4.0.1”\n",
      "Warning message:\n",
      "“package ‘tune’ was built under R version 4.0.2”\n",
      "Warning message:\n",
      "“package ‘workflows’ was built under R version 4.0.2”\n",
      "Warning message:\n",
      "“package ‘yardstick’ was built under R version 4.0.2”\n",
      "── \u001b[1mConflicts\u001b[22m ───────────────────────────────────────── tidymodels_conflicts() ──\n",
      "\u001b[31m✖\u001b[39m \u001b[34mscales\u001b[39m::\u001b[32mdiscard()\u001b[39m masks \u001b[34mpurrr\u001b[39m::discard()\n",
      "\u001b[31m✖\u001b[39m \u001b[34mdplyr\u001b[39m::\u001b[32mfilter()\u001b[39m   masks \u001b[34mstats\u001b[39m::filter()\n",
      "\u001b[31m✖\u001b[39m \u001b[34mrecipes\u001b[39m::\u001b[32mfixed()\u001b[39m  masks \u001b[34mstringr\u001b[39m::fixed()\n",
      "\u001b[31m✖\u001b[39m \u001b[34mdplyr\u001b[39m::\u001b[32mlag()\u001b[39m      masks \u001b[34mstats\u001b[39m::lag()\n",
      "\u001b[31m✖\u001b[39m \u001b[34myardstick\u001b[39m::\u001b[32mspec()\u001b[39m masks \u001b[34mreadr\u001b[39m::spec()\n",
      "\u001b[31m✖\u001b[39m \u001b[34mrecipes\u001b[39m::\u001b[32mstep()\u001b[39m   masks \u001b[34mstats\u001b[39m::step()\n",
      "\n"
     ]
    }
   ],
   "source": [
    "# import necessary libraries and packages\n",
    "library(tidyverse)\n",
    "library(tidymodels)\n",
    "library(repr)\n",
    "options(repr.matrix.max.rows = 6)"
   ]
  },
  {
   "cell_type": "markdown",
   "metadata": {},
   "source": [
    "First, we loaded our data directly from the web (Github). The data is an official government-released source for grades of grade 12 students studied in BC from 2016 to 2020. Therefore, it will be appropriate to generalize our findings to all grade 12 students in BC high schools. \n",
    "\n",
    "Since we are planning to perform a hypothesis test, we did a quick check on the data size based on school type to ensure that we have enough data points to work with. \n",
    "\n",
    "As a part of wrangling and cleaning the data, we selected only the variables of interest (PUBLIC_OR_INDEPENDENT, AVERAGE_PERCENT, MARK_TYPE, EXAM_SUBJECT), then filtered to narrow down the range of the data to the final marks in English 12.\n",
    "\n",
    "We didn't scale or centre the data since the original data was already scaled and centred to be out of 100 by the institution. We can consider the difficulties of the course to get rid of any biases, but that is out of the scope of this investigation as we do not have the data to determine how hard. \n"
   ]
  },
  {
   "cell_type": "code",
   "execution_count": 2,
   "metadata": {},
   "outputs": [
    {
     "name": "stderr",
     "output_type": "stream",
     "text": [
      "Parsed with column specification:\n",
      "cols(\n",
      "  .default = col_character(),\n",
      "  SCHOOL_NUMBER = \u001b[33mcol_logical()\u001b[39m,\n",
      "  SCHOOL_NAME = \u001b[33mcol_logical()\u001b[39m,\n",
      "  GRADE = \u001b[32mcol_double()\u001b[39m\n",
      ")\n",
      "\n",
      "See spec(...) for full column specifications.\n",
      "\n",
      "Warning message:\n",
      "“81714 parsing failures.\n",
      " row           col           expected                actual                                                                                                                                     file\n",
      "2314 SCHOOL_NUMBER 1/0/T/F/TRUE/FALSE 00502001              'https://raw.githubusercontent.com/michelleykim/bc_exams_analysis/main/data/provincial-required-examinations-2016_2017_to_2019_2020.csv'\n",
      "2314 SCHOOL_NAME   1/0/T/F/TRUE/FALSE Mount Baker Secondary 'https://raw.githubusercontent.com/michelleykim/bc_exams_analysis/main/data/provincial-required-examinations-2016_2017_to_2019_2020.csv'\n",
      "2315 SCHOOL_NUMBER 1/0/T/F/TRUE/FALSE 00502001              'https://raw.githubusercontent.com/michelleykim/bc_exams_analysis/main/data/provincial-required-examinations-2016_2017_to_2019_2020.csv'\n",
      "2315 SCHOOL_NAME   1/0/T/F/TRUE/FALSE Mount Baker Secondary 'https://raw.githubusercontent.com/michelleykim/bc_exams_analysis/main/data/provincial-required-examinations-2016_2017_to_2019_2020.csv'\n",
      "2316 SCHOOL_NUMBER 1/0/T/F/TRUE/FALSE 00502001              'https://raw.githubusercontent.com/michelleykim/bc_exams_analysis/main/data/provincial-required-examinations-2016_2017_to_2019_2020.csv'\n",
      ".... ............. .................. ..................... ........................................................................................................................................\n",
      "See problems(...) for more details.\n",
      "”\n",
      "`summarise()` ungrouping output (override with `.groups` argument)\n",
      "\n"
     ]
    },
    {
     "name": "stdout",
     "output_type": "stream",
     "text": [
      "[1] \"Tibble 1: Number of schools in BC per school type\"\n"
     ]
    },
    {
     "data": {
      "text/html": [
       "<table>\n",
       "<caption>A tibble: 3 × 2</caption>\n",
       "<thead>\n",
       "\t<tr><th scope=col>PUBLIC_OR_INDEPENDENT</th><th scope=col>n</th></tr>\n",
       "\t<tr><th scope=col>&lt;chr&gt;</th><th scope=col>&lt;int&gt;</th></tr>\n",
       "</thead>\n",
       "<tbody>\n",
       "\t<tr><td>BC Independent School</td><td> 7377</td></tr>\n",
       "\t<tr><td>BC Public School     </td><td>41316</td></tr>\n",
       "\t<tr><td>Province-Total       </td><td>  225</td></tr>\n",
       "</tbody>\n",
       "</table>\n"
      ],
      "text/latex": [
       "A tibble: 3 × 2\n",
       "\\begin{tabular}{ll}\n",
       " PUBLIC\\_OR\\_INDEPENDENT & n\\\\\n",
       " <chr> & <int>\\\\\n",
       "\\hline\n",
       "\t BC Independent School &  7377\\\\\n",
       "\t BC Public School      & 41316\\\\\n",
       "\t Province-Total        &   225\\\\\n",
       "\\end{tabular}\n"
      ],
      "text/markdown": [
       "\n",
       "A tibble: 3 × 2\n",
       "\n",
       "| PUBLIC_OR_INDEPENDENT &lt;chr&gt; | n &lt;int&gt; |\n",
       "|---|---|\n",
       "| BC Independent School |  7377 |\n",
       "| BC Public School      | 41316 |\n",
       "| Province-Total        |   225 |\n",
       "\n"
      ],
      "text/plain": [
       "  PUBLIC_OR_INDEPENDENT n    \n",
       "1 BC Independent School  7377\n",
       "2 BC Public School      41316\n",
       "3 Province-Total          225"
      ]
     },
     "metadata": {},
     "output_type": "display_data"
    },
    {
     "name": "stdout",
     "output_type": "stream",
     "text": [
      "[1] \"Tibble 2: Clean and wrangled dataset\"\n"
     ]
    },
    {
     "data": {
      "text/html": [
       "<table>\n",
       "<caption>A tibble: 6 × 4</caption>\n",
       "<thead>\n",
       "\t<tr><th scope=col>PUBLIC_OR_INDEPENDENT</th><th scope=col>AVERAGE_PERCENT</th><th scope=col>MARK_TYPE</th><th scope=col>EXAM_SUBJECT</th></tr>\n",
       "\t<tr><th scope=col>&lt;chr&gt;</th><th scope=col>&lt;dbl&gt;</th><th scope=col>&lt;chr&gt;</th><th scope=col>&lt;chr&gt;</th></tr>\n",
       "</thead>\n",
       "<tbody>\n",
       "\t<tr><td>BC Public School     </td><td>73.2</td><td>Final Marks</td><td>ENGLISH 12</td></tr>\n",
       "\t<tr><td>BC Public School     </td><td>68.2</td><td>Final Marks</td><td>ENGLISH 12</td></tr>\n",
       "\t<tr><td>BC Public School     </td><td>73.6</td><td>Final Marks</td><td>ENGLISH 12</td></tr>\n",
       "\t<tr><td>BC Public School     </td><td>70.6</td><td>Final Marks</td><td>ENGLISH 12</td></tr>\n",
       "\t<tr><td>BC Public School     </td><td>73.4</td><td>Final Marks</td><td>ENGLISH 12</td></tr>\n",
       "\t<tr><td>BC Independent School</td><td>78.2</td><td>Final Marks</td><td>ENGLISH 12</td></tr>\n",
       "</tbody>\n",
       "</table>\n"
      ],
      "text/latex": [
       "A tibble: 6 × 4\n",
       "\\begin{tabular}{llll}\n",
       " PUBLIC\\_OR\\_INDEPENDENT & AVERAGE\\_PERCENT & MARK\\_TYPE & EXAM\\_SUBJECT\\\\\n",
       " <chr> & <dbl> & <chr> & <chr>\\\\\n",
       "\\hline\n",
       "\t BC Public School      & 73.2 & Final Marks & ENGLISH 12\\\\\n",
       "\t BC Public School      & 68.2 & Final Marks & ENGLISH 12\\\\\n",
       "\t BC Public School      & 73.6 & Final Marks & ENGLISH 12\\\\\n",
       "\t BC Public School      & 70.6 & Final Marks & ENGLISH 12\\\\\n",
       "\t BC Public School      & 73.4 & Final Marks & ENGLISH 12\\\\\n",
       "\t BC Independent School & 78.2 & Final Marks & ENGLISH 12\\\\\n",
       "\\end{tabular}\n"
      ],
      "text/markdown": [
       "\n",
       "A tibble: 6 × 4\n",
       "\n",
       "| PUBLIC_OR_INDEPENDENT &lt;chr&gt; | AVERAGE_PERCENT &lt;dbl&gt; | MARK_TYPE &lt;chr&gt; | EXAM_SUBJECT &lt;chr&gt; |\n",
       "|---|---|---|---|\n",
       "| BC Public School      | 73.2 | Final Marks | ENGLISH 12 |\n",
       "| BC Public School      | 68.2 | Final Marks | ENGLISH 12 |\n",
       "| BC Public School      | 73.6 | Final Marks | ENGLISH 12 |\n",
       "| BC Public School      | 70.6 | Final Marks | ENGLISH 12 |\n",
       "| BC Public School      | 73.4 | Final Marks | ENGLISH 12 |\n",
       "| BC Independent School | 78.2 | Final Marks | ENGLISH 12 |\n",
       "\n"
      ],
      "text/plain": [
       "  PUBLIC_OR_INDEPENDENT AVERAGE_PERCENT MARK_TYPE   EXAM_SUBJECT\n",
       "1 BC Public School      73.2            Final Marks ENGLISH 12  \n",
       "2 BC Public School      68.2            Final Marks ENGLISH 12  \n",
       "3 BC Public School      73.6            Final Marks ENGLISH 12  \n",
       "4 BC Public School      70.6            Final Marks ENGLISH 12  \n",
       "5 BC Public School      73.4            Final Marks ENGLISH 12  \n",
       "6 BC Independent School 78.2            Final Marks ENGLISH 12  "
      ]
     },
     "metadata": {},
     "output_type": "display_data"
    }
   ],
   "source": [
    "# read data from the web\n",
    "exam_data <- read_delim(\"https://raw.githubusercontent.com/michelleykim/bc_exams_analysis/main/data/provincial-required-examinations-2016_2017_to_2019_2020.csv\", delim = \",\")\n",
    "\n",
    "# check if data size is sufficient\n",
    "exam_test<-exam_data %>% \n",
    "    select(PUBLIC_OR_INDEPENDENT) %>% \n",
    "    group_by(PUBLIC_OR_INDEPENDENT) %>% \n",
    "    summarize(n=n())\n",
    "print('Tibble 1: Number of schools in BC per school type')\n",
    "exam_test\n",
    "\n",
    "# clean and wrangle data into tidy format\n",
    "exam_school_type <- exam_data  %>% \n",
    "                    select(PUBLIC_OR_INDEPENDENT, AVERAGE_PERCENT, MARK_TYPE, EXAM_SUBJECT) %>% \n",
    "                    filter(AVERAGE_PERCENT != \"Msk\") %>% \n",
    "                    filter(PUBLIC_OR_INDEPENDENT == \"BC Public School\" |PUBLIC_OR_INDEPENDENT == \"BC Independent School\") %>%\n",
    "                    filter(EXAM_SUBJECT == \"ENGLISH 12\" & MARK_TYPE == \"Final Marks\" ) %>% \n",
    "                    mutate(AVERAGE_PERCENT = as.numeric(AVERAGE_PERCENT))\n",
    "print('Tibble 2: Clean and wrangled dataset')\n",
    "head(exam_school_type)"
   ]
  },
  {
   "cell_type": "markdown",
   "metadata": {},
   "source": [
    "We took a sample of 40 and 40 from the dataset. We could've calculated the population parameter direction with high accuracy since our dataset contains the English 12 grade from every single high school in BC. However, we decided to take a sample to simulate more common occasions where the population is unknown."
   ]
  },
  {
   "cell_type": "code",
   "execution_count": 3,
   "metadata": {},
   "outputs": [
    {
     "name": "stdout",
     "output_type": "stream",
     "text": [
      "[1] \"Tibble 3: 40 random samples of each school type\"\n"
     ]
    },
    {
     "data": {
      "text/html": [
       "<table>\n",
       "<caption>A tibble: 6 × 3</caption>\n",
       "<thead>\n",
       "\t<tr><th scope=col>PUBLIC_OR_INDEPENDENT</th><th scope=col>AVERAGE_PERCENT</th><th scope=col>EXAM_SUBJECT</th></tr>\n",
       "\t<tr><th scope=col>&lt;chr&gt;</th><th scope=col>&lt;dbl&gt;</th><th scope=col>&lt;chr&gt;</th></tr>\n",
       "</thead>\n",
       "<tbody>\n",
       "\t<tr><td>BC Public School</td><td>77.6</td><td>ENGLISH 12</td></tr>\n",
       "\t<tr><td>BC Public School</td><td>70.2</td><td>ENGLISH 12</td></tr>\n",
       "\t<tr><td>BC Public School</td><td>79.8</td><td>ENGLISH 12</td></tr>\n",
       "\t<tr><td>BC Public School</td><td>73.8</td><td>ENGLISH 12</td></tr>\n",
       "\t<tr><td>BC Public School</td><td>77.8</td><td>ENGLISH 12</td></tr>\n",
       "\t<tr><td>BC Public School</td><td>73.2</td><td>ENGLISH 12</td></tr>\n",
       "</tbody>\n",
       "</table>\n"
      ],
      "text/latex": [
       "A tibble: 6 × 3\n",
       "\\begin{tabular}{lll}\n",
       " PUBLIC\\_OR\\_INDEPENDENT & AVERAGE\\_PERCENT & EXAM\\_SUBJECT\\\\\n",
       " <chr> & <dbl> & <chr>\\\\\n",
       "\\hline\n",
       "\t BC Public School & 77.6 & ENGLISH 12\\\\\n",
       "\t BC Public School & 70.2 & ENGLISH 12\\\\\n",
       "\t BC Public School & 79.8 & ENGLISH 12\\\\\n",
       "\t BC Public School & 73.8 & ENGLISH 12\\\\\n",
       "\t BC Public School & 77.8 & ENGLISH 12\\\\\n",
       "\t BC Public School & 73.2 & ENGLISH 12\\\\\n",
       "\\end{tabular}\n"
      ],
      "text/markdown": [
       "\n",
       "A tibble: 6 × 3\n",
       "\n",
       "| PUBLIC_OR_INDEPENDENT &lt;chr&gt; | AVERAGE_PERCENT &lt;dbl&gt; | EXAM_SUBJECT &lt;chr&gt; |\n",
       "|---|---|---|\n",
       "| BC Public School | 77.6 | ENGLISH 12 |\n",
       "| BC Public School | 70.2 | ENGLISH 12 |\n",
       "| BC Public School | 79.8 | ENGLISH 12 |\n",
       "| BC Public School | 73.8 | ENGLISH 12 |\n",
       "| BC Public School | 77.8 | ENGLISH 12 |\n",
       "| BC Public School | 73.2 | ENGLISH 12 |\n",
       "\n"
      ],
      "text/plain": [
       "  PUBLIC_OR_INDEPENDENT AVERAGE_PERCENT EXAM_SUBJECT\n",
       "1 BC Public School      77.6            ENGLISH 12  \n",
       "2 BC Public School      70.2            ENGLISH 12  \n",
       "3 BC Public School      79.8            ENGLISH 12  \n",
       "4 BC Public School      73.8            ENGLISH 12  \n",
       "5 BC Public School      77.8            ENGLISH 12  \n",
       "6 BC Public School      73.2            ENGLISH 12  "
      ]
     },
     "metadata": {},
     "output_type": "display_data"
    }
   ],
   "source": [
    "#get a sample\n",
    "set.seed(10)\n",
    "exam_school_type_sample_public <- exam_school_type %>% \n",
    "        filter(PUBLIC_OR_INDEPENDENT == \"BC Public School\") %>% \n",
    "        rep_sample_n(size = 40) \n",
    "\n",
    "exam_school_type_sample_Independent <- exam_school_type %>% \n",
    "        filter(PUBLIC_OR_INDEPENDENT == \"BC Independent School\") %>% \n",
    "        rep_sample_n(size = 40) \n",
    "\n",
    "exam_school_type_sample <- rbind(exam_school_type_sample_public, \n",
    "                                 exam_school_type_sample_Independent) %>% \n",
    "                        ungroup() %>% \n",
    "                        select(-replicate, -MARK_TYPE)\n",
    "print('Tibble 3: 40 random samples of each school type')\n",
    "head(exam_school_type_sample)"
   ]
  },
  {
   "cell_type": "code",
   "execution_count": 4,
   "metadata": {},
   "outputs": [
    {
     "name": "stderr",
     "output_type": "stream",
     "text": [
      "`summarise()` regrouping output by 'PUBLIC_OR_INDEPENDENT' (override with `.groups` argument)\n",
      "\n"
     ]
    },
    {
     "name": "stdout",
     "output_type": "stream",
     "text": [
      "[1] \"Tibble 4: Statistics of each school type\"\n"
     ]
    },
    {
     "data": {
      "text/html": [
       "<table>\n",
       "<caption>A grouped_df: 2 × 4</caption>\n",
       "<thead>\n",
       "\t<tr><th scope=col>PUBLIC_OR_INDEPENDENT</th><th scope=col>EXAM_SUBJECT</th><th scope=col>mean</th><th scope=col>sd</th></tr>\n",
       "\t<tr><th scope=col>&lt;chr&gt;</th><th scope=col>&lt;chr&gt;</th><th scope=col>&lt;dbl&gt;</th><th scope=col>&lt;dbl&gt;</th></tr>\n",
       "</thead>\n",
       "<tbody>\n",
       "\t<tr><td>BC Independent School</td><td>ENGLISH 12</td><td>76.330</td><td>8.212224</td></tr>\n",
       "\t<tr><td>BC Public School     </td><td>ENGLISH 12</td><td>71.915</td><td>4.647003</td></tr>\n",
       "</tbody>\n",
       "</table>\n"
      ],
      "text/latex": [
       "A grouped\\_df: 2 × 4\n",
       "\\begin{tabular}{llll}\n",
       " PUBLIC\\_OR\\_INDEPENDENT & EXAM\\_SUBJECT & mean & sd\\\\\n",
       " <chr> & <chr> & <dbl> & <dbl>\\\\\n",
       "\\hline\n",
       "\t BC Independent School & ENGLISH 12 & 76.330 & 8.212224\\\\\n",
       "\t BC Public School      & ENGLISH 12 & 71.915 & 4.647003\\\\\n",
       "\\end{tabular}\n"
      ],
      "text/markdown": [
       "\n",
       "A grouped_df: 2 × 4\n",
       "\n",
       "| PUBLIC_OR_INDEPENDENT &lt;chr&gt; | EXAM_SUBJECT &lt;chr&gt; | mean &lt;dbl&gt; | sd &lt;dbl&gt; |\n",
       "|---|---|---|---|\n",
       "| BC Independent School | ENGLISH 12 | 76.330 | 8.212224 |\n",
       "| BC Public School      | ENGLISH 12 | 71.915 | 4.647003 |\n",
       "\n"
      ],
      "text/plain": [
       "  PUBLIC_OR_INDEPENDENT EXAM_SUBJECT mean   sd      \n",
       "1 BC Independent School ENGLISH 12   76.330 8.212224\n",
       "2 BC Public School      ENGLISH 12   71.915 4.647003"
      ]
     },
     "metadata": {},
     "output_type": "display_data"
    },
    {
     "name": "stdout",
     "output_type": "stream",
     "text": [
      "[1] \"Tibble 5: Differene in mean grade observed from sample\"\n"
     ]
    },
    {
     "data": {
      "text/html": [
       "<table>\n",
       "<caption>A tibble: 1 × 1</caption>\n",
       "<thead>\n",
       "\t<tr><th scope=col>diff_in_mean</th></tr>\n",
       "\t<tr><th scope=col>&lt;dbl&gt;</th></tr>\n",
       "</thead>\n",
       "<tbody>\n",
       "\t<tr><td>4.415</td></tr>\n",
       "</tbody>\n",
       "</table>\n"
      ],
      "text/latex": [
       "A tibble: 1 × 1\n",
       "\\begin{tabular}{l}\n",
       " diff\\_in\\_mean\\\\\n",
       " <dbl>\\\\\n",
       "\\hline\n",
       "\t 4.415\\\\\n",
       "\\end{tabular}\n"
      ],
      "text/markdown": [
       "\n",
       "A tibble: 1 × 1\n",
       "\n",
       "| diff_in_mean &lt;dbl&gt; |\n",
       "|---|\n",
       "| 4.415 |\n",
       "\n"
      ],
      "text/plain": [
       "  diff_in_mean\n",
       "1 4.415       "
      ]
     },
     "metadata": {},
     "output_type": "display_data"
    },
    {
     "data": {
      "image/png": "[encoded data removed]",
      "text/plain": [
       "plot without title"
      ]
     },
     "metadata": {
      "image/png": {
       "height": 420,
       "width": 420
      }
     },
     "output_type": "display_data"
    },
    {
     "data": {
      "image/png": "[encoded data removed]",
      "text/plain": [
       "plot without title"
      ]
     },
     "metadata": {
      "image/png": {
       "height": 420,
       "width": 420
      }
     },
     "output_type": "display_data"
    }
   ],
   "source": [
    "# getting the mean and standard deviation of average percent for each school type \n",
    "#   and the diff of their mean (BC Independent School - BC Public School)\n",
    "data_for_each_catetegory<- exam_school_type_sample %>% \n",
    "                group_by(PUBLIC_OR_INDEPENDENT, EXAM_SUBJECT) %>% \n",
    "                summarize(mean = mean(AVERAGE_PERCENT),\n",
    "                          sd = sd(AVERAGE_PERCENT))\n",
    "print('Tibble 4: Statistics of each school type')\n",
    "data_for_each_catetegory\n",
    "\n",
    "obs_diff_in_mean <-   exam_school_type_sample  %>% \n",
    "    specify(formula = AVERAGE_PERCENT ~ PUBLIC_OR_INDEPENDENT) %>%\n",
    "    calculate(stat = \"diff in means\", order = c(\"BC Independent School\", \"BC Public School\")) %>% \n",
    "    mutate(diff_in_mean = stat) %>% \n",
    "    select(-stat)\n",
    "print('Tibble 5: Differene in mean grade observed from sample')\n",
    "obs_diff_in_mean\n",
    "\n",
    "# generate bar graph\n",
    "exam_barplot <- data_for_each_catetegory %>%\n",
    "    ggplot(aes(x = PUBLIC_OR_INDEPENDENT, y = mean, , fill = EXAM_SUBJECT )) +\n",
    "    geom_bar(stat=\"identity\", position = \"dodge\", width = 0.5) +\n",
    "    xlab(\"School type (Public or Independent)\") +\n",
    "    ylab(\"mean of average percent (%)\") +\n",
    "    ggtitle(\"Graph 1: Barplot of final scores mean of the 2 school types (Public or Independent)\") \n",
    "exam_barplot\n",
    "\n",
    "# generate boxplot \n",
    "exam_boxplot <- exam_school_type_sample %>%\n",
    "    ggplot() +\n",
    "    geom_boxplot(aes(x = PUBLIC_OR_INDEPENDENT, y = AVERAGE_PERCENT)) +\n",
    "    xlab(\"School type (Public or Independent)\") + \n",
    "    ylab(\"Averages (%)\") +\n",
    "    ggtitle(\"Graph 2: Boxplot of school means by school type (Public or Independent)\") \n",
    "exam_boxplot"
   ]
  },
  {
   "cell_type": "markdown",
   "metadata": {},
   "source": [
    "The preliminary research above suggests that the notable difference between mean averages of private/independent and public schools may be due to the sampling variation. \n",
    "\n",
    "By conducting a hypothesis test, we will be able to tell whether our findings are statistically significant. We will conduct a one-sided hypothesis test:\n",
    "- **Null hypothesis**: There is no difference in the final English 12 grades in public or independent high schools in BC\n",
    "- **Alternate hypotheis**: In BC, independent high schools have higher English 12 final mark than public high schools\n",
    "\n",
    "We will be using bootstrapping to simulate the null distribution and obtain the p-value and the confidence interval. As well, because our dataset does not break the 3 rules needed to perform CLT, we will also be using the CLT/t-test to obtain the p-value and confidence interval. The sample was drawn independently through random sampling on R from the dataset. The size was n=40 for both samples, which is less than 10% of the overall population but is large enough for a good approximation for the CLT. Because we are taking a random sample, we do not have sigma for both populations, so we will be using the t-test to account for the uncertainty from the sample standard deviation.\n",
    "\n",
    "We used the functions from the infer package to simulate bootstrap samples. Specify() function sets the explanatory and response variables, generate() function produces 10000 bootstrap functions with the size same as the sample size, and calculate() function computes the difference in means.\n"
   ]
  },
  {
   "cell_type": "code",
   "execution_count": 5,
   "metadata": {},
   "outputs": [
    {
     "name": "stdout",
     "output_type": "stream",
     "text": [
      "[1] \"Tibble 6: Bootstrap distribution of 10000 reps\"\n"
     ]
    },
    {
     "data": {
      "text/html": [
       "<table>\n",
       "<caption>A tibble: 6 × 2</caption>\n",
       "<thead>\n",
       "\t<tr><th scope=col>replicate</th><th scope=col>stat</th></tr>\n",
       "\t<tr><th scope=col>&lt;int&gt;</th><th scope=col>&lt;dbl&gt;</th></tr>\n",
       "</thead>\n",
       "<tbody>\n",
       "\t<tr><td>1</td><td> 2.76291640</td></tr>\n",
       "\t<tr><td>2</td><td> 3.78655410</td></tr>\n",
       "\t<tr><td>3</td><td> 6.11867168</td></tr>\n",
       "\t<tr><td>4</td><td>-0.06967419</td></tr>\n",
       "\t<tr><td>5</td><td> 3.89693558</td></tr>\n",
       "\t<tr><td>6</td><td> 5.04015009</td></tr>\n",
       "</tbody>\n",
       "</table>\n"
      ],
      "text/latex": [
       "A tibble: 6 × 2\n",
       "\\begin{tabular}{ll}\n",
       " replicate & stat\\\\\n",
       " <int> & <dbl>\\\\\n",
       "\\hline\n",
       "\t 1 &  2.76291640\\\\\n",
       "\t 2 &  3.78655410\\\\\n",
       "\t 3 &  6.11867168\\\\\n",
       "\t 4 & -0.06967419\\\\\n",
       "\t 5 &  3.89693558\\\\\n",
       "\t 6 &  5.04015009\\\\\n",
       "\\end{tabular}\n"
      ],
      "text/markdown": [
       "\n",
       "A tibble: 6 × 2\n",
       "\n",
       "| replicate &lt;int&gt; | stat &lt;dbl&gt; |\n",
       "|---|---|\n",
       "| 1 |  2.76291640 |\n",
       "| 2 |  3.78655410 |\n",
       "| 3 |  6.11867168 |\n",
       "| 4 | -0.06967419 |\n",
       "| 5 |  3.89693558 |\n",
       "| 6 |  5.04015009 |\n",
       "\n"
      ],
      "text/plain": [
       "  replicate stat       \n",
       "1 1          2.76291640\n",
       "2 2          3.78655410\n",
       "3 3          6.11867168\n",
       "4 4         -0.06967419\n",
       "5 5          3.89693558\n",
       "6 6          5.04015009"
      ]
     },
     "metadata": {},
     "output_type": "display_data"
    }
   ],
   "source": [
    "#bootrap distribution of 10000 reps using the infer package\n",
    "set.seed(1)\n",
    "bootstrap_distribution<- exam_school_type_sample %>% \n",
    "        specify(formula = AVERAGE_PERCENT ~PUBLIC_OR_INDEPENDENT ) %>% \n",
    "        generate(reps = 10000, type = \"bootstrap\") %>% \n",
    "        calculate(stat = \"diff in means\", c(\"BC Independent School\", \"BC Public School\")) \n",
    "print('Tibble 6: Bootstrap distribution of 10000 reps')\n",
    "head(bootstrap_distribution)"
   ]
  },
  {
   "cell_type": "markdown",
   "metadata": {},
   "source": [
    "Our confidence intervals will cover the mean grades of each type of school as well as the difference in mean grades. We choose to get a 95% confidence interval since it will give us a range of plausible values with an interval narrow enough to be useful while staying relatively confident that the true difference is contained in the interval. We do not need to guess the exact value of the population parameter (difference in mean), while we still want to have most of the confidence intervals contain the true population parameter"
   ]
  },
  {
   "cell_type": "code",
   "execution_count": 6,
   "metadata": {},
   "outputs": [
    {
     "name": "stdout",
     "output_type": "stream",
     "text": [
      "[1] \"Tibble 7: Confidence interval acquired using bootstrapping method\"\n"
     ]
    },
    {
     "data": {
      "text/html": [
       "<table>\n",
       "<caption>A tibble: 1 × 2</caption>\n",
       "<thead>\n",
       "\t<tr><th scope=col>lower_ci</th><th scope=col>upper_ci</th></tr>\n",
       "\t<tr><th scope=col>&lt;dbl&gt;</th><th scope=col>&lt;dbl&gt;</th></tr>\n",
       "</thead>\n",
       "<tbody>\n",
       "\t<tr><td>1.458018</td><td>7.382629</td></tr>\n",
       "</tbody>\n",
       "</table>\n"
      ],
      "text/latex": [
       "A tibble: 1 × 2\n",
       "\\begin{tabular}{ll}\n",
       " lower\\_ci & upper\\_ci\\\\\n",
       " <dbl> & <dbl>\\\\\n",
       "\\hline\n",
       "\t 1.458018 & 7.382629\\\\\n",
       "\\end{tabular}\n"
      ],
      "text/markdown": [
       "\n",
       "A tibble: 1 × 2\n",
       "\n",
       "| lower_ci &lt;dbl&gt; | upper_ci &lt;dbl&gt; |\n",
       "|---|---|\n",
       "| 1.458018 | 7.382629 |\n",
       "\n"
      ],
      "text/plain": [
       "  lower_ci upper_ci\n",
       "1 1.458018 7.382629"
      ]
     },
     "metadata": {},
     "output_type": "display_data"
    },
    {
     "name": "stdout",
     "output_type": "stream",
     "text": [
      "[1] \"Value 1: Standard error of bootstrapping method\"\n"
     ]
    },
    {
     "data": {
      "text/html": [
       "1.48776173692055"
      ],
      "text/latex": [
       "1.48776173692055"
      ],
      "text/markdown": [
       "1.48776173692055"
      ],
      "text/plain": [
       "[1] 1.487762"
      ]
     },
     "metadata": {},
     "output_type": "display_data"
    },
    {
     "data": {
      "image/png": "[encoded data removed]",
      "text/plain": [
       "plot without title"
      ]
     },
     "metadata": {
      "image/png": {
       "height": 420,
       "width": 420
      }
     },
     "output_type": "display_data"
    }
   ],
   "source": [
    "# get 95% confidence interval (bootstrap)\n",
    "percentile_ci <- bootstrap_distribution %>% \n",
    "  get_confidence_interval(level = 0.95, type = \"percentile\")\n",
    "print('Tibble 7: Confidence interval acquired using bootstrapping method')\n",
    "percentile_ci\n",
    "\n",
    "# visualize the bootstrap distribution\n",
    "visualize(bootstrap_distribution, binwidth= 0.5) + \n",
    "  shade_confidence_interval(endpoints = percentile_ci)+\n",
    " theme(text = element_text(size = 15))+\n",
    "  ggtitle(\"Graph 3: 95% CI for diff in mean of the two schools\")\n",
    "\n",
    "#getting the standard error of bootstrapping method (computer generated simulations)\n",
    "se_bootstrap<- bootstrap_distribution %>% \n",
    "     ungroup() %>%     \n",
    "    summarize(se = sd(stat)) %>% \n",
    "    as.numeric()\n",
    "print('Value 1: Standard error of bootstrapping method')\n",
    "se_bootstrap"
   ]
  },
  {
   "cell_type": "markdown",
   "metadata": {},
   "source": [
    "We then declared the null hypothesis using the hypothesize() function of the infer package. Since the null model hypothesizes the independence of two different populations, we passed `null = \"independence\"` as an argument to the function. After getting the null model, get_p_value() function calculated the right-tailed p-value.\n",
    "\n",
    "Also, at this point, we decided to use a significant level of 0.05.\n"
   ]
  },
  {
   "cell_type": "code",
   "execution_count": 7,
   "metadata": {},
   "outputs": [
    {
     "name": "stdout",
     "output_type": "stream",
     "text": [
      "[1] \"Tibble 8: Null distribution (z-model)\"\n"
     ]
    },
    {
     "data": {
      "text/html": [
       "<table>\n",
       "<caption>A tibble: 6 × 2</caption>\n",
       "<thead>\n",
       "\t<tr><th scope=col>replicate</th><th scope=col>stat</th></tr>\n",
       "\t<tr><th scope=col>&lt;int&gt;</th><th scope=col>&lt;dbl&gt;</th></tr>\n",
       "</thead>\n",
       "<tbody>\n",
       "\t<tr><td>1</td><td> 1.185</td></tr>\n",
       "\t<tr><td>2</td><td>-0.210</td></tr>\n",
       "\t<tr><td>3</td><td>-0.970</td></tr>\n",
       "\t<tr><td>4</td><td> 0.230</td></tr>\n",
       "\t<tr><td>5</td><td> 0.850</td></tr>\n",
       "\t<tr><td>6</td><td> 2.510</td></tr>\n",
       "</tbody>\n",
       "</table>\n"
      ],
      "text/latex": [
       "A tibble: 6 × 2\n",
       "\\begin{tabular}{ll}\n",
       " replicate & stat\\\\\n",
       " <int> & <dbl>\\\\\n",
       "\\hline\n",
       "\t 1 &  1.185\\\\\n",
       "\t 2 & -0.210\\\\\n",
       "\t 3 & -0.970\\\\\n",
       "\t 4 &  0.230\\\\\n",
       "\t 5 &  0.850\\\\\n",
       "\t 6 &  2.510\\\\\n",
       "\\end{tabular}\n"
      ],
      "text/markdown": [
       "\n",
       "A tibble: 6 × 2\n",
       "\n",
       "| replicate &lt;int&gt; | stat &lt;dbl&gt; |\n",
       "|---|---|\n",
       "| 1 |  1.185 |\n",
       "| 2 | -0.210 |\n",
       "| 3 | -0.970 |\n",
       "| 4 |  0.230 |\n",
       "| 5 |  0.850 |\n",
       "| 6 |  2.510 |\n",
       "\n"
      ],
      "text/plain": [
       "  replicate stat  \n",
       "1 1          1.185\n",
       "2 2         -0.210\n",
       "3 3         -0.970\n",
       "4 4          0.230\n",
       "5 5          0.850\n",
       "6 6          2.510"
      ]
     },
     "metadata": {},
     "output_type": "display_data"
    },
    {
     "name": "stdout",
     "output_type": "stream",
     "text": [
      "[1] \"Tibble 9: P value from bootstrapping method\"\n"
     ]
    },
    {
     "data": {
      "text/html": [
       "<table>\n",
       "<caption>A tibble: 1 × 1</caption>\n",
       "<thead>\n",
       "\t<tr><th scope=col>p_value</th></tr>\n",
       "\t<tr><th scope=col>&lt;dbl&gt;</th></tr>\n",
       "</thead>\n",
       "<tbody>\n",
       "\t<tr><td>0.0015</td></tr>\n",
       "</tbody>\n",
       "</table>\n"
      ],
      "text/latex": [
       "A tibble: 1 × 1\n",
       "\\begin{tabular}{l}\n",
       " p\\_value\\\\\n",
       " <dbl>\\\\\n",
       "\\hline\n",
       "\t 0.0015\\\\\n",
       "\\end{tabular}\n"
      ],
      "text/markdown": [
       "\n",
       "A tibble: 1 × 1\n",
       "\n",
       "| p_value &lt;dbl&gt; |\n",
       "|---|\n",
       "| 0.0015 |\n",
       "\n"
      ],
      "text/plain": [
       "  p_value\n",
       "1 0.0015 "
      ]
     },
     "metadata": {},
     "output_type": "display_data"
    },
    {
     "data": {
      "image/png": "[encoded data removed]",
      "text/plain": [
       "plot without title"
      ]
     },
     "metadata": {
      "image/png": {
       "height": 420,
       "width": 420
      }
     },
     "output_type": "display_data"
    }
   ],
   "source": [
    "set.seed(1)\n",
    "#get creating null model \n",
    "null_differnece<- exam_school_type_sample %>% \n",
    "    specify(formula = AVERAGE_PERCENT ~PUBLIC_OR_INDEPENDENT ) %>% \n",
    "    hypothesize(null = \"independence\") %>%\n",
    "    generate(reps = 10000, type = \"permute\") %>% \n",
    "    calculate(stat = \"diff in means\", c(\"BC Independent School\", \"BC Public School\"))\n",
    "print('Tibble 8: Null distribution (z-model)')\n",
    "head(null_differnece)\n",
    "\n",
    "#visualize null model with red line being observed difference in mean from our sample\n",
    "diff_in_mean_plot <-\n",
    "    visualize(null_differnece, binwidth = 0.5) + \n",
    "    shade_p_value(obs_stat = as.numeric(obs_diff_in_mean), direction = \"right\") +\n",
    "    xlab(\"Difference in mean\") +\n",
    "     theme(text = element_text(size = 15))+\n",
    "    ggtitle(\"Graph 4: Null model\")\n",
    "diff_in_mean_plot\n",
    "\n",
    "#get p-value\n",
    "p_value_permute <- null_differnece%>% \n",
    "          get_p_value(obs_stat = as.numeric(obs_diff_in_mean), direction = \"right\")\n",
    "print('Tibble 9: P value from bootstrapping method')\n",
    "p_value_permute"
   ]
  },
  {
   "cell_type": "markdown",
   "metadata": {},
   "source": [
    "Now, we are using the asymptotics method to compare the means of two independent populations by conducting a two-sample difference of mean t-test. We used qt() function to get the confidence interval of 95% and  used the pt() function to get the p-value for our hypothesis test.\n",
    "\n",
    "Test statistic: \n",
    "$$\n",
    "T = \\frac{\\bar{x}-\\bar{y} - d_0}{\\sqrt{\\frac{s_1^2}{n_1} - \\frac{s_2^2}{n_2}} }\n",
    "$$\n",
    "\n",
    "Null model: $t$-distribution with approximately $\\nu$ degrees of freedom, where \n",
    "$$\n",
    "\\nu = \\frac{\n",
    "    \\left(\\frac{s_1^2}{n_1}+\\frac{s_2^2}{n_2}\\right)^2\n",
    "}\n",
    "{\n",
    "\\frac{s_1^4}{n_1^2(n_1-1)}+\\frac{s_2^4}{n_2^2(n_2-1)}\n",
    "}\n",
    "$$"
   ]
  },
  {
   "cell_type": "code",
   "execution_count": 8,
   "metadata": {},
   "outputs": [
    {
     "name": "stdout",
     "output_type": "stream",
     "text": [
      "[1] \"Value 2: Standard error for asymptotics\"\n"
     ]
    },
    {
     "data": {
      "text/html": [
       "1.49193880915285"
      ],
      "text/latex": [
       "1.49193880915285"
      ],
      "text/markdown": [
       "1.49193880915285"
      ],
      "text/plain": [
       "[1] 1.491939"
      ]
     },
     "metadata": {},
     "output_type": "display_data"
    },
    {
     "name": "stdout",
     "output_type": "stream",
     "text": [
      "[1] \"Value 3: Degree of freedom for asymptotics\"\n"
     ]
    },
    {
     "data": {
      "text/html": [
       "61.6531624982147"
      ],
      "text/latex": [
       "61.6531624982147"
      ],
      "text/markdown": [
       "61.6531624982147"
      ],
      "text/plain": [
       "[1] 61.65316"
      ]
     },
     "metadata": {},
     "output_type": "display_data"
    },
    {
     "name": "stdout",
     "output_type": "stream",
     "text": [
      "[1] \"Tibble 10: Confidence intervals acquired using asymptotics\"\n"
     ]
    },
    {
     "data": {
      "text/html": [
       "<table>\n",
       "<caption>A tibble: 1 × 2</caption>\n",
       "<thead>\n",
       "\t<tr><th scope=col>lower_ci</th><th scope=col>upper_ci</th></tr>\n",
       "\t<tr><th scope=col>&lt;dbl&gt;</th><th scope=col>&lt;dbl&gt;</th></tr>\n",
       "</thead>\n",
       "<tbody>\n",
       "\t<tr><td>1.432323</td><td>7.397677</td></tr>\n",
       "</tbody>\n",
       "</table>\n"
      ],
      "text/latex": [
       "A tibble: 1 × 2\n",
       "\\begin{tabular}{ll}\n",
       " lower\\_ci & upper\\_ci\\\\\n",
       " <dbl> & <dbl>\\\\\n",
       "\\hline\n",
       "\t 1.432323 & 7.397677\\\\\n",
       "\\end{tabular}\n"
      ],
      "text/markdown": [
       "\n",
       "A tibble: 1 × 2\n",
       "\n",
       "| lower_ci &lt;dbl&gt; | upper_ci &lt;dbl&gt; |\n",
       "|---|---|\n",
       "| 1.432323 | 7.397677 |\n",
       "\n"
      ],
      "text/plain": [
       "  lower_ci upper_ci\n",
       "1 1.432323 7.397677"
      ]
     },
     "metadata": {},
     "output_type": "display_data"
    },
    {
     "name": "stdout",
     "output_type": "stream",
     "text": [
      "[1] \"Value 4: T-value\"\n"
     ]
    },
    {
     "data": {
      "text/html": [
       "2.95923664758538"
      ],
      "text/latex": [
       "2.95923664758538"
      ],
      "text/markdown": [
       "2.95923664758538"
      ],
      "text/plain": [
       "[1] 2.959237"
      ]
     },
     "metadata": {},
     "output_type": "display_data"
    },
    {
     "name": "stdout",
     "output_type": "stream",
     "text": [
      "[1] \"Value 5: P value from asymptotics\"\n"
     ]
    },
    {
     "data": {
      "text/html": [
       "0.00218533835960016"
      ],
      "text/latex": [
       "0.00218533835960016"
      ],
      "text/markdown": [
       "0.00218533835960016"
      ],
      "text/plain": [
       "[1] 0.002185338"
      ]
     },
     "metadata": {},
     "output_type": "display_data"
    }
   ],
   "source": [
    "#standard error\n",
    "se<-sqrt(data_for_each_catetegory$sd[1]^2/40 + data_for_each_catetegory$sd[2]^2/40)\n",
    "print('Value 2: Standard error for asymptotics')\n",
    "se\n",
    "#degree of freedom\n",
    "v<-(data_for_each_catetegory$sd[1]^2/40 + data_for_each_catetegory$sd[2]^2/40)^2/((data_for_each_catetegory$sd[1]^4/(40^2*(40-1))+(data_for_each_catetegory$sd[2]^4/(40^2*(40-1)))))\n",
    "print('Value 3: Degree of freedom for asymptotics')\n",
    "v\n",
    "\n",
    "#get confidence interval endpoints of 95% (t-test)\n",
    "diff_mean_ci_t <- tibble(\n",
    "    lower_ci = qt(0.025, v) *se+ as.numeric(obs_diff_in_mean),\n",
    "    upper_ci = qt(0.975,v)*se + as.numeric(obs_diff_in_mean)\n",
    ")\n",
    "print('Tibble 10: Confidence intervals acquired using asymptotics')\n",
    "diff_mean_ci_t\n",
    "\n",
    "#t value \n",
    "t_value <- (as.numeric(obs_diff_in_mean)- 0)/se\n",
    "print('Value 4: T-value')\n",
    "t_value\n",
    "\n",
    "#get p-value using t-test \n",
    "v<-(data_for_each_catetegory$sd[1]^2/40 + data_for_each_catetegory$sd[2]^2/40)^2/((data_for_each_catetegory$sd[1]^4/(40^2*(40-1))+(data_for_each_catetegory$sd[2]^4/(40^2*(40-1)))))\n",
    "p_value <-  pt(t_value, df = v, lower.tail=FALSE)\n",
    "print('Value 5: P value from asymptotics')\n",
    "p_value"
   ]
  },
  {
   "cell_type": "code",
   "execution_count": 9,
   "metadata": {},
   "outputs": [
    {
     "name": "stdout",
     "output_type": "stream",
     "text": [
      "[1] \"Tibble 11: P value from asymptotics using t.test()\"\n"
     ]
    },
    {
     "data": {
      "text/html": [
       "<table>\n",
       "<caption>A tibble: 1 × 10</caption>\n",
       "<thead>\n",
       "\t<tr><th scope=col>estimate</th><th scope=col>estimate1</th><th scope=col>estimate2</th><th scope=col>statistic</th><th scope=col>p.value</th><th scope=col>parameter</th><th scope=col>conf.low</th><th scope=col>conf.high</th><th scope=col>method</th><th scope=col>alternative</th></tr>\n",
       "\t<tr><th scope=col>&lt;dbl&gt;</th><th scope=col>&lt;dbl&gt;</th><th scope=col>&lt;dbl&gt;</th><th scope=col>&lt;dbl&gt;</th><th scope=col>&lt;dbl&gt;</th><th scope=col>&lt;dbl&gt;</th><th scope=col>&lt;dbl&gt;</th><th scope=col>&lt;dbl&gt;</th><th scope=col>&lt;chr&gt;</th><th scope=col>&lt;chr&gt;</th></tr>\n",
       "</thead>\n",
       "<tbody>\n",
       "\t<tr><td>4.415</td><td>76.33</td><td>71.915</td><td>2.959237</td><td>0.002185338</td><td>61.65316</td><td>1.923542</td><td>Inf</td><td>Welch Two Sample t-test</td><td>greater</td></tr>\n",
       "</tbody>\n",
       "</table>\n"
      ],
      "text/latex": [
       "A tibble: 1 × 10\n",
       "\\begin{tabular}{llllllllll}\n",
       " estimate & estimate1 & estimate2 & statistic & p.value & parameter & conf.low & conf.high & method & alternative\\\\\n",
       " <dbl> & <dbl> & <dbl> & <dbl> & <dbl> & <dbl> & <dbl> & <dbl> & <chr> & <chr>\\\\\n",
       "\\hline\n",
       "\t 4.415 & 76.33 & 71.915 & 2.959237 & 0.002185338 & 61.65316 & 1.923542 & Inf & Welch Two Sample t-test & greater\\\\\n",
       "\\end{tabular}\n"
      ],
      "text/markdown": [
       "\n",
       "A tibble: 1 × 10\n",
       "\n",
       "| estimate &lt;dbl&gt; | estimate1 &lt;dbl&gt; | estimate2 &lt;dbl&gt; | statistic &lt;dbl&gt; | p.value &lt;dbl&gt; | parameter &lt;dbl&gt; | conf.low &lt;dbl&gt; | conf.high &lt;dbl&gt; | method &lt;chr&gt; | alternative &lt;chr&gt; |\n",
       "|---|---|---|---|---|---|---|---|---|---|\n",
       "| 4.415 | 76.33 | 71.915 | 2.959237 | 0.002185338 | 61.65316 | 1.923542 | Inf | Welch Two Sample t-test | greater |\n",
       "\n"
      ],
      "text/plain": [
       "  estimate estimate1 estimate2 statistic p.value     parameter conf.low\n",
       "1 4.415    76.33     71.915    2.959237  0.002185338 61.65316  1.923542\n",
       "  conf.high method                  alternative\n",
       "1 Inf       Welch Two Sample t-test greater    "
      ]
     },
     "metadata": {},
     "output_type": "display_data"
    }
   ],
   "source": [
    "#p_value using t.test() function\n",
    "t_test<- t.test(x = exam_school_type_sample %>% filter(PUBLIC_OR_INDEPENDENT == \"BC Independent School\") %>% pull(AVERAGE_PERCENT), \n",
    "                          y = exam_school_type_sample %>% filter(PUBLIC_OR_INDEPENDENT == \"BC Public School\") %>% pull(AVERAGE_PERCENT),\n",
    "                          alternative = \"greater\") %>% \n",
    "        tidy()\n",
    "print('Tibble 11: P value from asymptotics using t.test()')\n",
    "t_test"
   ]
  },
  {
   "cell_type": "code",
   "execution_count": 10,
   "metadata": {},
   "outputs": [
    {
     "data": {
      "image/png": "[encoded data removed]",
      "text/plain": [
       "plot without title"
      ]
     },
     "metadata": {
      "image/png": {
       "height": 420,
       "width": 420
      }
     },
     "output_type": "display_data"
    }
   ],
   "source": [
    "#visualize t distribution graph\n",
    "sampling_dist_sample_mean_z <- \n",
    "    ggplot() +\n",
    "    geom_line(data = tibble(x = seq(-7, 7, 0.01), \n",
    "                            density = dt(x, df = v)), \n",
    "              aes(x = x, y = density), color = \"red\", lwd = 2) + \n",
    "    xlab(\"t-score\") +\n",
    "  theme(text = element_text(size = 15))+\n",
    "    ggtitle(\"Graph 5: t scores distribution graph\")+\n",
    "    geom_vline(xintercept = t_value)\n",
    "sampling_dist_sample_mean_z"
   ]
  },
  {
   "cell_type": "code",
   "execution_count": 11,
   "metadata": {},
   "outputs": [
    {
     "name": "stdout",
     "output_type": "stream",
     "text": [
      "[1] \"Tibble 12: Summary statistics\"\n"
     ]
    },
    {
     "data": {
      "text/html": [
       "<table>\n",
       "<caption>A tibble: 2 × 5</caption>\n",
       "<thead>\n",
       "\t<tr><th scope=col>type</th><th scope=col>lower_ci</th><th scope=col>upper_ci</th><th scope=col>p_value</th><th scope=col>se</th></tr>\n",
       "\t<tr><th scope=col>&lt;chr&gt;</th><th scope=col>&lt;dbl&gt;</th><th scope=col>&lt;dbl&gt;</th><th scope=col>&lt;dbl&gt;</th><th scope=col>&lt;dbl&gt;</th></tr>\n",
       "</thead>\n",
       "<tbody>\n",
       "\t<tr><td>bootrapping</td><td>1.458018</td><td>7.382629</td><td>0.001500000</td><td>1.487762</td></tr>\n",
       "\t<tr><td>CLT/t-value</td><td>1.432323</td><td>7.397677</td><td>0.002185338</td><td>1.491939</td></tr>\n",
       "</tbody>\n",
       "</table>\n"
      ],
      "text/latex": [
       "A tibble: 2 × 5\n",
       "\\begin{tabular}{lllll}\n",
       " type & lower\\_ci & upper\\_ci & p\\_value & se\\\\\n",
       " <chr> & <dbl> & <dbl> & <dbl> & <dbl>\\\\\n",
       "\\hline\n",
       "\t bootrapping & 1.458018 & 7.382629 & 0.001500000 & 1.487762\\\\\n",
       "\t CLT/t-value & 1.432323 & 7.397677 & 0.002185338 & 1.491939\\\\\n",
       "\\end{tabular}\n"
      ],
      "text/markdown": [
       "\n",
       "A tibble: 2 × 5\n",
       "\n",
       "| type &lt;chr&gt; | lower_ci &lt;dbl&gt; | upper_ci &lt;dbl&gt; | p_value &lt;dbl&gt; | se &lt;dbl&gt; |\n",
       "|---|---|---|---|---|\n",
       "| bootrapping | 1.458018 | 7.382629 | 0.001500000 | 1.487762 |\n",
       "| CLT/t-value | 1.432323 | 7.397677 | 0.002185338 | 1.491939 |\n",
       "\n"
      ],
      "text/plain": [
       "  type        lower_ci upper_ci p_value     se      \n",
       "1 bootrapping 1.458018 7.382629 0.001500000 1.487762\n",
       "2 CLT/t-value 1.432323 7.397677 0.002185338 1.491939"
      ]
     },
     "metadata": {},
     "output_type": "display_data"
    }
   ],
   "source": [
    "# accumulate summary of stats recieved\n",
    "summary<- tibble(\n",
    "  type = c(\"bootrapping\",\"CLT/t-value\"), \n",
    "  lower_ci = c(percentile_ci$lower_ci, diff_mean_ci_t$lower_ci),\n",
    "  upper_ci= c(percentile_ci$upper_ci, diff_mean_ci_t$upper_ci),\n",
    "  p_value = c(as.numeric(p_value_permute), p_value),\n",
    "  se = c(se_bootstrap, se)\n",
    ")\n",
    "print('Tibble 12: Summary statistics')\n",
    "summary"
   ]
  },
  {
   "cell_type": "markdown",
   "metadata": {},
   "source": [
    "## Results\n",
    "\n",
    "We obtained an observed mean difference of 4.415%, meaning that from our sample, we found that private school students have on average 4.415% higher English 12 marks than their public school counterparts. Using bootstrapping, we determined the p-value of this mean difference to be 0.0015, with a 95% confidence interval of  endpoints 1.458018 and 7.382629. This means we are  95% confident that the true difference in averages is between  1.458018% and 7.382629%.  For the t-test, we first manually calculated the test statistic and obtained a value of 2.959. With this, we found a p-value of 0.002185. As shown in graph 4, the observed value is far to the right of the null model, indicating that we are very unlikely to obtain this value if the null hypothesis were true. Using the t.test() function in R, we obtained the same result indicating that our method of conducting the t-test was correct. Using the t-test, we found a 95% confidence interval of endpoints 1.432323 and 7.397677. This means we are  95% confident that the true difference in averages is between  1.432323% and 7.397677%.  At a significance level of 0.05, we reject the null hypothesis using both bootstrap and t-test and conclude that private school students do have higher English 12 final marks than public school students. \n",
    "\n",
    "Bootstrapping and asymptotics (t-test) produced similar results, although the t-test produced a slightly wider confidence interval. In our case, either bootstrapping or asymptotics would be appropriate for this analysis."
   ]
  },
  {
   "cell_type": "markdown",
   "metadata": {},
   "source": [
    "## Discussion\n",
    "\n",
    "We found that the difference in English 12 final grades between public and private high schools to be significant. Specifically, the scores of private high schools were higher by an average of about 4.4%. After analyzing our data using two different methods we found our p-value to be around 0.002 in both cases and the 95% confidence interval in both bootstrapping and t-test does not capture the value of 0. So, we can confidently say that our conclusions are replicable and are very incompatible with our null hypothesis (H0: no difference is observed between the school types). Therefore, it is appropriate to generalize the results found in this report to private and public high schools all over BC. Even though the result of our sample p-test rejects the null hypothesis there is still a chance that we may have gotten a bad sample that does not represent the population well.\n",
    "\n",
    "In accordance with our preliminary results, we expected to find that mean final English 12 grades to be higher in BC independent schools rather than public. Which coincides with the results found. \n",
    "\n",
    "This analysis suggests that there are some factors that result in private high schools having a higher average English 12 final grade than public schools. Therefore, these findings could potentially impact the decisions parents make regarding their children’s education. It could also influence the amount of government funding that public schools receive. Since the choice (between sending children to a public or private high school) is a luxury that not everyone has, perhaps more government funding for public schools can somewhat balance the incoming revenue disparity between the two school types. This leads to the question of whether the socio-economic status of a family directly affects the child’s performance in school. Although, there may be other hidden variables that also affect their performance, such as peers, attendance, or the quality of teaching received. Future studies could delve deeper into the circumstances of students to gain a more complete picture of what factors ultimately lead to a higher final grade in English 12. \n"
   ]
  },
  {
   "cell_type": "markdown",
   "metadata": {},
   "source": [
    "## Reference\n",
    "\n",
    "1. Analysis and Reporting Unit, Ministry of Education. (2020). BC schools grade 10, 11, 12 examinations results 2016/2017 to 2019/2020. British Columbia. \n",
    "2.  Chen, G. (2019, April 5). Public School vs. Private School. Public School Review. https://www.publicschoolreview.com/blog/public-school-vs-private-school#:%7E:text=Private%20school%20students%20generally%20perform,counterparts%20on%20standardized%20achievement%20tests.&text=Their%20average%20scores%20were%20above,science%20and%20mathematics%20proficiency%20tests.\n",
    "3. Hernández-Gálvez, D. C., & Roldán-Valadez, E. (2019). Mexican ENARM: performance comparison of public vs. private medical schools, geographic and socioeconomic regions. Salud Pública de México, 61(5, sep-oct), 637. https://doi.org/10.21149/10078\n",
    "4. Ma, Y., Hou, X., Huang, J., Wang, W., Li, Y., Zhou, X., & Du, X. (2018). Educational inequality and achievement disparity: An empirical study of migrant children in China. Children and Youth Services Review, 87, 145–153. https://doi.org/10.1016/j.childyouth.2018.02.026\n",
    "5. UNESCO Institute for Statistics. (2020, September). Government expenditure on education, total (% of government expenditure) [Total general (local, regional and central) government expenditure on education (current, capital, and transfers), expressed as a percentage of GDP. It includes expenditure funded by transfers from international sources to government.]. The World Bank. https://data.worldbank.org/indicator/SE.XPD.TOTL.GB.ZS\n"
   ]
  },
  {
   "cell_type": "code",
   "execution_count": null,
   "metadata": {},
   "outputs": [],
   "source": []
  }
 ],
 "metadata": {
  "kernelspec": {
   "display_name": "R",
   "language": "R",
   "name": "ir"
  },
  "language_info": {
   "codemirror_mode": "r",
   "file_extension": ".r",
   "mimetype": "text/x-r-source",
   "name": "R",
   "pygments_lexer": "r",
   "version": "4.0.0"
  }
 },
 "nbformat": 4,
 "nbformat_minor": 4
}
